{
  "cells": [
    {
      "cell_type": "markdown",
      "source": [],
      "metadata": {
        "id": "8fc1JM--pqFv"
      }
    },
    {
      "cell_type": "markdown",
      "metadata": {
        "id": "yzTcTaqV_4jT"
      },
      "source": []
    },
    {
      "cell_type": "code",
      "execution_count": null,
      "metadata": {
        "id": "II4sbC1R_4jZ"
      },
      "outputs": [],
      "source": [
        "import numpy as np \n",
        "import tensorflow as tf \n",
        "from tensorflow import keras \n",
        "from keras.models import Sequential \n",
        "import itertools\n",
        "from keras.preprocessing.image import ImageDataGenerator\n",
        "from keras.applications import MobileNetV3Large as MobileNet\n",
        "import matplotlib.pyplot as plt\n",
        "import pandas as pd\n"
      ]
    },
    {
      "cell_type": "markdown",
      "source": [
        "# New Section"
      ],
      "metadata": {
        "id": "P0pS0Vamarjl"
      }
    },
    {
      "cell_type": "code",
      "source": [
        "import os\n",
        "import random\n",
        "import glob\n",
        "import shutil\n"
      ],
      "metadata": {
        "id": "J1Lwdvj1_-q7"
      },
      "execution_count": null,
      "outputs": []
    },
    {
      "cell_type": "code",
      "source": [
        "from google.colab import drive\n",
        "drive.mount('/content/drive')"
      ],
      "metadata": {
        "colab": {
          "base_uri": "https://localhost:8080/"
        },
        "id": "A59NCvLuEwSY",
        "outputId": "d060fdaa-51b0-4190-ae95-aea3940d76ba"
      },
      "execution_count": null,
      "outputs": [
        {
          "output_type": "stream",
          "name": "stdout",
          "text": [
            "Mounted at /content/drive\n"
          ]
        }
      ]
    },
    {
      "cell_type": "code",
      "source": [
        "IMG_COUNT = 1146\n",
        "train_count = round(1146*0.75)\n",
        "test_count = IMG_COUNT - train_count"
      ],
      "metadata": {
        "id": "YGiyOuWiOQTC"
      },
      "execution_count": null,
      "outputs": []
    },
    {
      "cell_type": "code",
      "source": [
        "os.chdir(\"/content/drive/MyDrive/Images\")\n",
        "# os.makedirs(\"train\")\n",
        "# os.makedirs(\"test\")"
      ],
      "metadata": {
        "id": "iGEnmzwCLTHy"
      },
      "execution_count": null,
      "outputs": []
    },
    {
      "cell_type": "code",
      "source": [
        "# for c in random.sample(glob.glob('*train.jpg'), train_count): \n",
        "#   shutil.move(c, \"train\")\n",
        "# for c in random.sample(glob.glob('*.jpg'), test_count): \n",
        "#   shutil.move(c, \"test\")"
      ],
      "metadata": {
        "id": "aZotQmpIMhj6",
        "colab": {
          "base_uri": "https://localhost:8080/",
          "height": 348
        },
        "outputId": "6e4e7d8f-1538-4ebe-a79d-2140f5c7c19b"
      },
      "execution_count": null,
      "outputs": [
        {
          "output_type": "error",
          "ename": "ValueError",
          "evalue": "ignored",
          "traceback": [
            "\u001b[0;31m---------------------------------------------------------------------------\u001b[0m",
            "\u001b[0;31mValueError\u001b[0m                                Traceback (most recent call last)",
            "\u001b[0;32m<ipython-input-6-28f2ecc37e9f>\u001b[0m in \u001b[0;36m<cell line: 1>\u001b[0;34m()\u001b[0m\n\u001b[0;32m----> 1\u001b[0;31m \u001b[0;32mfor\u001b[0m \u001b[0mc\u001b[0m \u001b[0;32min\u001b[0m \u001b[0mrandom\u001b[0m\u001b[0;34m.\u001b[0m\u001b[0msample\u001b[0m\u001b[0;34m(\u001b[0m\u001b[0mglob\u001b[0m\u001b[0;34m.\u001b[0m\u001b[0mglob\u001b[0m\u001b[0;34m(\u001b[0m\u001b[0;34m'*.jpg'\u001b[0m\u001b[0;34m)\u001b[0m\u001b[0;34m,\u001b[0m \u001b[0mtrain_count\u001b[0m\u001b[0;34m)\u001b[0m\u001b[0;34m:\u001b[0m\u001b[0;34m\u001b[0m\u001b[0;34m\u001b[0m\u001b[0m\n\u001b[0m\u001b[1;32m      2\u001b[0m   \u001b[0mshutil\u001b[0m\u001b[0;34m.\u001b[0m\u001b[0mmove\u001b[0m\u001b[0;34m(\u001b[0m\u001b[0mc\u001b[0m\u001b[0;34m,\u001b[0m \u001b[0;34m\"train\"\u001b[0m\u001b[0;34m)\u001b[0m\u001b[0;34m\u001b[0m\u001b[0;34m\u001b[0m\u001b[0m\n\u001b[1;32m      3\u001b[0m \u001b[0;32mfor\u001b[0m \u001b[0mc\u001b[0m \u001b[0;32min\u001b[0m \u001b[0mrandom\u001b[0m\u001b[0;34m.\u001b[0m\u001b[0msample\u001b[0m\u001b[0;34m(\u001b[0m\u001b[0mglob\u001b[0m\u001b[0;34m.\u001b[0m\u001b[0mglob\u001b[0m\u001b[0;34m(\u001b[0m\u001b[0;34m'*.jpg'\u001b[0m\u001b[0;34m)\u001b[0m\u001b[0;34m,\u001b[0m \u001b[0mtest_count\u001b[0m\u001b[0;34m)\u001b[0m\u001b[0;34m:\u001b[0m\u001b[0;34m\u001b[0m\u001b[0;34m\u001b[0m\u001b[0m\n\u001b[1;32m      4\u001b[0m   \u001b[0mshutil\u001b[0m\u001b[0;34m.\u001b[0m\u001b[0mmove\u001b[0m\u001b[0;34m(\u001b[0m\u001b[0mc\u001b[0m\u001b[0;34m,\u001b[0m \u001b[0;34m\"test\"\u001b[0m\u001b[0;34m)\u001b[0m\u001b[0;34m\u001b[0m\u001b[0;34m\u001b[0m\u001b[0m\n",
            "\u001b[0;32m/usr/lib/python3.9/random.py\u001b[0m in \u001b[0;36msample\u001b[0;34m(self, population, k, counts)\u001b[0m\n\u001b[1;32m    447\u001b[0m         \u001b[0mrandbelow\u001b[0m \u001b[0;34m=\u001b[0m \u001b[0mself\u001b[0m\u001b[0;34m.\u001b[0m\u001b[0m_randbelow\u001b[0m\u001b[0;34m\u001b[0m\u001b[0;34m\u001b[0m\u001b[0m\n\u001b[1;32m    448\u001b[0m         \u001b[0;32mif\u001b[0m \u001b[0;32mnot\u001b[0m \u001b[0;36m0\u001b[0m \u001b[0;34m<=\u001b[0m \u001b[0mk\u001b[0m \u001b[0;34m<=\u001b[0m \u001b[0mn\u001b[0m\u001b[0;34m:\u001b[0m\u001b[0;34m\u001b[0m\u001b[0;34m\u001b[0m\u001b[0m\n\u001b[0;32m--> 449\u001b[0;31m             \u001b[0;32mraise\u001b[0m \u001b[0mValueError\u001b[0m\u001b[0;34m(\u001b[0m\u001b[0;34m\"Sample larger than population or is negative\"\u001b[0m\u001b[0;34m)\u001b[0m\u001b[0;34m\u001b[0m\u001b[0;34m\u001b[0m\u001b[0m\n\u001b[0m\u001b[1;32m    450\u001b[0m         \u001b[0mresult\u001b[0m \u001b[0;34m=\u001b[0m \u001b[0;34m[\u001b[0m\u001b[0;32mNone\u001b[0m\u001b[0;34m]\u001b[0m \u001b[0;34m*\u001b[0m \u001b[0mk\u001b[0m\u001b[0;34m\u001b[0m\u001b[0;34m\u001b[0m\u001b[0m\n\u001b[1;32m    451\u001b[0m         \u001b[0msetsize\u001b[0m \u001b[0;34m=\u001b[0m \u001b[0;36m21\u001b[0m        \u001b[0;31m# size of a small set minus size of an empty list\u001b[0m\u001b[0;34m\u001b[0m\u001b[0;34m\u001b[0m\u001b[0m\n",
            "\u001b[0;31mValueError\u001b[0m: Sample larger than population or is negative"
          ]
        }
      ]
    },
    {
      "cell_type": "code",
      "source": [
        "# globbed_images = glob.glob('Images/*.jpg')\n",
        "# image_db = {\"filename\" : []}\n",
        "# for img in globbed_images: \n",
        "#   # print(os.path.basename(img))\n",
        "#   image_db[\"filename\"].append(os.path.basename(img))\n",
        "\n",
        "# db = pd.DataFrame(image_db)\n",
        "# db.shape"
      ],
      "metadata": {
        "colab": {
          "base_uri": "https://localhost:8080/"
        },
        "id": "vsUkMfB3zkBT",
        "outputId": "ea6c0bae-9988-4222-f11d-ee4fd107dad2"
      },
      "execution_count": null,
      "outputs": [
        {
          "output_type": "execute_result",
          "data": {
            "text/plain": [
              "(1146, 1)"
            ]
          },
          "metadata": {},
          "execution_count": 15
        }
      ]
    },
    {
      "cell_type": "code",
      "source": [
        "IMG_SIZE= 224"
      ],
      "metadata": {
        "id": "dpdhoWYvqxxG"
      },
      "execution_count": null,
      "outputs": []
    },
    {
      "cell_type": "code",
      "source": [
        "train_batch = ImageDataGenerator(preprocessing_function = tf.keras.applications.mobilenet_v3.preprocess_input) \\\n",
        ".flow_from_directory(directory = \"./\", target_size = (IMG_SIZE, IMG_SIZE), class_mode=None, batch_size = 32, save_to_dir = \"../../../preview\")\n",
        "# test_batch = ImageDataGenerator(preprocessing_function = tf.keras.applications.mobilenet_v3.preprocess_input)\n",
        "# test_batch = test_batch.flow_from_directory(directory = \"test\", target_size = (IMG_SIZE, IMG_SIZE), class_mode=None)\n"
      ],
      "metadata": {
        "colab": {
          "base_uri": "https://localhost:8080/"
        },
        "id": "8d1EsQulovks",
        "outputId": "d2f1b6d8-5669-4fb6-f59f-a5e0f134ddb3"
      },
      "execution_count": null,
      "outputs": [
        {
          "output_type": "stream",
          "name": "stdout",
          "text": [
            "Found 1146 images belonging to 1 classes.\n"
          ]
        }
      ]
    },
    {
      "cell_type": "code",
      "source": [
        "shutil.rmtree(\"../../../preview\")\n",
        "os.mkdir(\"../../../preview\")\n",
        "# for batch in train_batch: \n",
        "#   train_batch.next()\n",
        "for i in range(train_batch.__len__()): \n",
        "  train_batch.next()\n",
        "\n"
      ],
      "metadata": {
        "id": "JDcU0Ny_oTaa"
      },
      "execution_count": null,
      "outputs": []
    },
    {
      "cell_type": "code",
      "source": [
        "feature_filenames = [] \n",
        "for path in train_batch.filepaths: \n",
        "  feature_filenames.append(os.path.basename(path))\n",
        "\n",
        "print(feature_filenames)\n"
      ],
      "metadata": {
        "colab": {
          "base_uri": "https://localhost:8080/"
        },
        "id": "LKoEinj-684r",
        "outputId": "0d351fbc-e4b5-4f56-afce-8339c4b32cf3"
      },
      "execution_count": null,
      "outputs": [
        {
          "output_type": "stream",
          "name": "stdout",
          "text": [
            "['AdamLevine_01.jpg', 'AdamLevine_02.jpg', 'AdamLevine_03.jpg', 'AdamLevine_04.jpg', 'Adele_01.jpg', 'AlexanderSkarsgard_01.jpg', 'AlexanderSkarsgard_02.jpg', 'AliLarter_01.jpg', 'AliLarter_02.jpg', 'AliciaKeys_01.jpg', 'AmandaBynes_01.jpg', 'AmandaBynes_02.jpg', 'AmandaSeyfried_01.jpg', 'AmandaSeyfried_02.jpg', 'AmandaSeyfried_03.jpg', 'AmandaSeyfried_04.jpg', 'AmericaFerrera_01.jpg', 'AmyAdams_01.jpg', 'AmyAdams_02.jpg', 'AmySchumer_01.jpg', 'AmySchumer_02.jpg', 'AmySchumer_03.jpg', 'AmySchumer_04.jpg', 'AmySchumer_05.jpg', 'AmyWinehouse_01.jpg', 'AmyWinehouse_02.jpg', 'AmyWinehouse_03.jpg', 'AndrewGarfield_01.jpg', 'AngelinaJolie_01.jpg', 'AngelinaJolie_02.jpg', 'AngelinaJolie_03.jpg', 'AnnaNicoleSmith_01.jpg', 'AnnaNicoleSmith_02.jpg', 'AnnaNicoleSmith_03.jpg', 'AnnaNicoleSmith_04.jpg', 'AnnaNicoleSmith_05.jpg', 'AnnaPaquin_01.jpg', 'AnnaPaquin_02.jpg', 'AnnaPaquin_03.jpg', 'AnnaPaquin_04.jpg', 'AnneHathaway_01.jpg', 'AnneHathaway_02.jpg', 'AnneHathaway_03.jpg', 'AnneHathaway_04.jpg', 'AshleeSimpson_01.jpg', 'AshleeSimpson_02.jpg', 'AshleyGreene_01.jpg', 'AshleyGreene_02.jpg', 'AshleyGreene_03.jpg', 'AshleyGreene_04.jpg', 'AshleyGreene_05.jpg', 'AshleyGreene_06.jpg', 'AshleyOlsen_01.jpg', 'AshleyOlsen_02.jpg', 'AshleyOlsen_03.jpg', 'AshleyTisdale_01.jpg', 'AshleyTisdale_02.jpg', 'AshtonKutcher_01.jpg', 'AshtonKutcher_02.jpg', 'AudrinaPatridge_01.jpg', 'AudrinaPatridge_02.jpg', 'AudrinaPatridge_03.jpg', 'AudrinaPatridge_04.jpg', 'AudrinaPatridge_05.jpg', 'AvrilLavigne_01.jpg', 'AvrilLavigne_02.jpg', 'AvrilLavigne_03.jpg', 'AvrilLavigne_04.jpg', 'AvrilLavigne_05.jpg', 'AvrilLavigne_06.jpg', 'BenAffleck_01.jpg', 'BenAffleck_02.jpg', 'BenAffleck_03.jpg', 'BethennyFrankel_01.jpg', 'BethennyFrankel_02.jpg', 'BeyonceKnowles_01.jpg', 'BeyonceKnowles_02.jpg', 'BeyonceKnowles_04.jpg', 'BeyonceKnowles_05.jpg', 'BeyonceKnowles_06.jpg', 'BeyonceKnowles_07.jpg', 'BlakeLively_01.jpg', 'BlakeLively_02.jpg', 'BlakeLively_03.jpg', 'BlakeLively_04.jpg', 'BlakeLively_05.jpg', 'BlakeShelton_01.jpg', 'BradPaisley_01.jpg', 'BradPitt_01.jpg', 'BradPitt_02.jpg', 'BradPitt_03.jpg', 'BradPitt_04.jpg', 'BradleyCooper_01.jpg', 'BritneySpears_01.jpg', 'BritneySpears_02.jpg', 'BritneySpears_03.jpg', 'BritneySpears_04.jpg', 'BritneySpears_05.jpg', 'BritneySpears_06.jpg', 'BritneySpears_07.jpg', 'BritneySpears_08.jpg', 'BritneySpears_09.jpg', 'BritneySpears_10.jpg', 'BrodyJenner_01.jpg', 'BrookeShields_01.jpg', 'BrookeShields_02.jpg', 'BrookeShields_03.jpg', 'BruceWillis_01.jpg', 'CaitlynJenner_01.jpg', 'CaitlynJenner_02.jpg', 'CameronDiaz_01.jpg', 'CameronDiaz_02.jpg', 'CameronDiaz_03.jpg', 'CameronDiaz_04.jpg', 'CameronDiaz_05.jpg', 'CameronDiaz_06.jpg', 'CameronDiaz_07.jpg', 'CameronDiaz_08.jpg', 'CameronDiaz_09.jpg', 'CameronDiaz_10.jpg', 'CameronDiaz_11.jpg', 'CameronDiaz_12.jpg', 'CarmenElectra_01.jpg', 'CarmenElectra_02.jpg', 'CarmenElectra_03.jpg', 'CarmenElectra_04.jpg', 'CarmenElectra_05.jpg', 'CarmenElectra_06.jpg', 'CarmenElectra_07.jpg', 'CarmenElectra_08.jpg', 'CarmenElectra_09.jpg', 'CarmenElectra_10.jpg', 'CarmenElectra_11.jpg', 'CarmenElectra_12.jpg', 'CarmenElectra_13.jpg', 'CarmenElectra_14.jpg', 'CarmenElectra_15.jpg', 'CarrieUnderwood_01.jpg', 'CarrieUnderwood_02.jpg', 'CarrieUnderwood_03.jpg', 'CateBlanchett_01.jpg', 'CateBlanchett_02.jpg', 'CatherineZetaJones_01.jpg', 'CatherineZetaJones_02.jpg', 'CatherineZetaJones_03.jpg', 'CatherineZetaJones_04.jpg', 'CatherineZetaJones_05.jpg', 'CatherineZetaJones_06.jpg', 'CatherineZetaJones_07.jpg', 'CatherineZetaJones_08.jpg', 'CatherineZetaJones_09.jpg', 'CelineDion_01.jpg', 'CelineDion_02.jpg', 'CelineDion_03.jpg', 'ChaceCrawford_01.jpg', 'ChaceCrawford_02.jpg', 'ChaceCrawford_03.jpg', 'ChaceCrawford_04.jpg', 'ChaceCrawford_05.jpg', 'ChanningTatum_01.jpg', 'ChanningTatum_02.jpg', 'ChanningTatum_03.jpg', 'ChanningTatum_04.jpg', 'ChanningTatum_05.jpg', 'ChanningTatum_06.jpg', 'ChanningTatum_07.jpg', 'CharlizeTheron_01.jpg', 'CharlizeTheron_02.jpg', 'CharlizeTheron_03.jpg', 'CharlizeTheron_04.jpg', 'CharlizeTheron_05.jpg', 'CharlizeTheron_06.jpg', 'CherylBurke_01.jpg', 'CherylBurke_02.jpg', 'CherylBurke_03.jpg', 'ChrisBrown_01.jpg', 'ChrisBrown_02.jpg', 'ChrisBrown_03.jpg', 'ChrisBrown_04.jpg', 'ChrisHemsworth_01.jpg', 'ChrisHemsworth_02.jpg', 'ChrisPine_01.jpg', 'ChrisPine_02.jpg', 'ChristinaAguilera_01.jpg', 'ChristinaAguilera_02.jpg', 'ChristinaAguilera_03.jpg', 'ChristinaAguilera_04.jpg', 'ChristinaAguilera_05.jpg', 'ChristinaAguilera_06.jpg', 'ChristinaAguilera_07.jpg', 'ChristinaAguilera_08.jpg', 'ChristinaAguilera_09.jpg', 'ChristinaApplegate_01.jpg', 'ChristinaApplegate_02.jpg', 'ClaireDanes_01.jpg', 'ClaireDanes_02.jpg', 'ClaireDanes_03.jpg', 'ColinFarrell_01.jpg', 'ColinFarrell_02.jpg', 'CorbinBleu_01.jpg', 'CourteneyCox_01.jpg', 'CourteneyCox_02.jpg', 'CourteneyCox_03.jpg', 'DakotaFanning_01.jpg', 'DakotaFanning_02.jpg', 'DakotaFanning_03.jpg', 'DanielRadcliffe_01.jpg', 'DanielRadcliffe_02.jpg', 'DanielRadcliffe_03.jpg', 'DavidBeckham_01.jpg', 'DavidBeckham_02.jpg', 'DavidBeckham_03.jpg', 'DavidBeckham_04.jpg', 'DavidBeckham_05.jpg', 'DavidBeckham_06.jpg', 'DavidBeckham_07.jpg', 'DemiLovato_01.jpg', 'DemiLovato_02.jpg', 'DemiLovato_03.jpg', 'DemiLovato_04.jpg', 'DemiLovato_05.jpg', 'DemiLovato_06.jpg', 'DemiLovato_07.jpg', 'DemiMoore_01.jpg', 'DemiMoore_02.jpg', 'DemiMoore_03.jpg', 'DemiMoore_04.jpg', 'DemiMoore_05.jpg', 'DemiMoore_06.jpg', 'DemiMoore_07.jpg', 'DeniseRichards_01.jpg', 'DeniseRichards_02.jpg', 'DeniseRichards_03.jpg', 'DeniseRichards_04.jpg', 'DeniseRichards_05.jpg', 'DeniseRichards_06.jpg', 'DeniseRichards_07.jpg', 'DeniseRichards_08.jpg', 'DeniseRichards_09.jpg', 'DrewBarrymore_01.jpg', 'DrewBarrymore_02.jpg', 'DrewBarrymore_03.jpg', 'DrewBarrymore_04.jpg', 'DrewBarrymore_05.jpg', 'DrewBarrymore_06.jpg', 'DrewBarrymore_07.jpg', 'DrewBarrymore_08.jpg', 'DrewBarrymore_09.jpg', 'DrewBarrymore_10.jpg', 'DrewBarrymore_11.jpg', 'DrewBarrymore_12.jpg', 'DrewBarrymore_13.jpg', 'EdWestwick_01.jpg', 'EdWestwick_02.jpg', 'EdWestwick_03.jpg', 'ElinNordegren_01.jpg', 'ElinNordegren_02.jpg', 'ElinNordegren_03.jpg', 'ElinNordegren_04.jpg', 'ElinNordegren_05.jpg', 'ElisabethHasselbeck_01.jpg', 'ElisabethHasselbeck_02.jpg', 'ElisabethHasselbeck_03.jpg', 'ElisabethHasselbeck_04.jpg', 'EllenPompeo_01.jpg', 'EllenPompeo_02.jpg', 'EmilyBlunt_01.jpg', 'EmilyBlunt_02.jpg', 'EmilyBlunt_03.jpg', 'EmilyBlunt_04.jpg', 'EmmaRoberts_01.jpg', 'EmmaRoberts_02.jpg', 'EmmaRoberts_03.jpg', 'EmmaStone_01.jpg', 'EmmaStone_02.jpg', 'EmmaStone_03.jpg', 'EmmaStone_04.jpg', 'EmmaStone_05.jpg', 'EmmaStone_06.jpg', 'EmmaWatson_01.jpg', 'EmmaWatson_02.jpg', 'EmmaWatson_03.jpg', 'EvaLongoria_01.jpg', 'EvaLongoria_02.jpg', 'EvaLongoria_03.jpg', 'EvaLongoria_04.jpg', 'EvaLongoria_05.jpg', 'EvaLongoria_06.jpg', 'EvaLongoria_07.jpg', 'EvaLongoria_08.jpg', 'EvaLongoria_09.jpg', 'EvaLongoria_10.jpg', 'EvaLongoria_11.jpg', 'EvaMendes_01.jpg', 'EvaMendes_02.jpg', 'EvaMendes_03.jpg', 'EvaMendes_04.jpg', 'EvaMendes_05.jpg', 'EvaMendes_06.jpg', 'EvaMendes_07.jpg', 'EvaMendes_08.jpg', 'EvaMendes_09.jpg', 'EvaMendes_10.jpg', 'EvaMendes_11.jpg', 'EvanRachelWood_01.jpg', 'EvanRachelWood_02.jpg', 'EvanRachelWood_03.jpg', 'EvanRachelWood_04.jpg', 'EvanRachelWood_05.jpg', 'EvanRachelWood_06.jpg', 'EvangelineLilly_01.jpg', 'EvangelineLilly_02.jpg', 'EvangelineLilly_03.jpg', 'EvangelineLilly_04.jpg', 'EvangelineLilly_05.jpg', 'FaithHill_01.jpg', 'FaithHill_02.jpg', 'FaithHill_03.jpg', 'FaithHill_04.jpg', 'FaithHill_05.jpg', 'Fergie_01.jpg', 'Fergie_02.jpg', 'Fergie_03.jpg', 'Fergie_04.jpg', 'Fergie_05.jpg', 'Fergie_06.jpg', 'Fergie_07.jpg', 'Fergie_08.jpg', 'Fergie_09.jpg', 'Fergie_10.jpg', 'GeorgeClooney_01.jpg', 'GeorgeClooney_02.jpg', 'GerardButler_01.jpg', 'GerardButler_02.jpg', 'GiseleBundchen_01.jpg', 'GiseleBundchen_03.jpg', 'GiseleBundchen_04.jpg', 'GiseleBundchen_05.jpg', 'GiseleBundchen_06.jpg', 'GiseleBundchen_07.jpg', 'GiseleBundchen_08.jpg', 'GiseleBundchen_09.jpg', 'GiseleBundchen_10.jpg', 'GiseleBundchen_11.jpg', 'GiseleBundchen_12.jpg', 'GiseleBundchen_13.jpg', 'GiseleBundchen_14.jpg', 'GiseleBundchen_15.jpg', 'GiseleBundchen_16.jpg', 'GwenStefani_01.jpg', 'GwenStefani_02.jpg', 'GwenStefani_03.jpg', 'GwenStefani_04.jpg', 'GwenStefani_05.jpg', 'GwenStefani_06.jpg', 'GwynethPaltrow_01.jpg', 'GwynethPaltrow_02.jpg', 'GwynethPaltrow_03.jpg', 'GwynethPaltrow_04.jpg', 'GwynethPaltrow_05.jpg', 'HalleBerry_01.jpg', 'HalleBerry_02.jpg', 'HalleBerry_03.jpg', 'HalleBerry_04.jpg', 'HalleBerry_05.jpg', 'HalleBerry_06.jpg', 'HalleBerry_07.jpg', 'HalleBerry_08.jpg', 'HalleBerry_09.jpg', 'HalleBerry_10.jpg', 'HalleBerry_11.jpg', 'HalleBerry_12.jpg', 'HalleBerry_13.jpg', 'HalleBerry_14.jpg', 'HalleBerry_15.jpg', 'HaydenPanettiere_01.jpg', 'HaydenPanettiere_02.jpg', 'HaydenPanettiere_03.jpg', 'HaydenPanettiere_04.jpg', 'HaydenPanettiere_05.jpg', 'HeatherLocklear_01.jpg', 'HeatherLocklear_02.jpg', 'HeatherLocklear_03.jpg', 'HeatherLocklear_04.jpg', 'HeatherLocklear_05.jpg', 'HeidiKlum_01.jpg', 'HeidiKlum_02.jpg', 'HeidiKlum_03.jpg', 'HeidiKlum_04.jpg', 'HeidiKlum_05.jpg', 'HeidiKlum_06.jpg', 'HeidiKlum_07.jpg', 'HeidiKlum_08.jpg', 'HeidiKlum_09.jpg', 'HeidiKlum_10.jpg', 'HeidiKlum_11.jpg', 'HeidiKlum_12.jpg', 'HeidiKlum_13.jpg', 'HeidiKlum_14.jpg', 'HeidiKlum_15.jpg', 'HeidiKlum_16.jpg', 'HeidiKlum_17.jpg', 'HeidiKlum_18.jpg', 'HeidiKlum_19.jpg', 'HeidiMontag_01.jpg', 'HeidiMontag_02.jpg', 'HeidiMontag_03.jpg', 'HeidiMontag_04.jpg', 'HeidiMontag_05.jpg', 'HeidiMontag_06.jpg', 'HeidiMontag_07.jpg', 'HeidiMontag_08.jpg', 'HeidiMontag_09.jpg', 'HeidiMontag_10.jpg', 'HeidiMontag_11.jpg', 'HeidiMontag_12.jpg', 'HeidiMontag_13.jpg', 'HilaryDuff_01.jpg', 'HilaryDuff_03.jpg', 'HilaryDuff_04.jpg', 'HilaryDuff_05.jpg', 'HilaryDuff_06.jpg', 'HughJackman_01.jpg', 'HughJackman_02.jpg', 'HughJackman_03.jpg', 'IslaFisher_01.jpg', 'IslaFisher_02.jpg', 'IslaFisher_03.jpg', 'IslaFisher_04.jpg', 'IslaFisher_05.jpg', 'IslaFisher_06.jpg', 'IslaFisher_07.jpg', 'JakeGyllenhaal_01.jpg', 'JakeGyllenhaal_02.jpg', 'JakeGyllenhaal_03.jpg', 'JakeGyllenhaal_04.jpg', 'JakeGyllenhaal_05.jpg', 'JakeGyllenhaal_06.jpg', 'JakeGyllenhaal_07.jpg', 'JamesFranco_01.jpg', 'JamesFranco_02.jpg', 'JamieLynnSpears_01.jpg', 'JamieLynnSpears_02.jpg', 'JamieLynnSpears_03.jpg', 'JamieLynnSpears_04.jpg', 'JamieLynnSpears_05.jpg', 'JamieLynnSpears_06.jpg', 'JamieLynnSpears_07.jpg', 'JamieLynnSpears_08.jpg', 'JamieLynnSpears_09.jpg', 'JamieLynnSpears_10.jpg', 'JanetJackson_01.jpg', 'JanetJackson_02.jpg', 'JanetJackson_03.jpg', 'JanetJackson_04.jpg', 'JanetJackson_05.jpg', 'JanetJackson_06.jpg', 'JanetJackson_07.jpg', 'JanetJackson_08.jpg', 'JanetJackson_09.jpg', 'JanetJackson_10.jpg', 'JanuaryJones_01.jpg', 'JanuaryJones_02.jpg', 'JanuaryJones_03.jpg', 'JenniferAniston_01.jpg', 'JenniferAniston_02.jpg', 'JenniferAniston_03.jpg', 'JenniferGarner_01.jpg', 'JenniferGarner_02.jpg', 'JenniferGarner_03.jpg', 'JenniferGarner_04.jpg', 'JenniferGarner_05.jpg', 'JenniferGarner_06.jpg', 'JenniferGarner_07.jpg', 'JenniferLawrence_01.jpg', 'JenniferLawrence_02.jpg', 'JenniferLawrence_03.jpg', 'JenniferLawrence_04.jpg', 'JenniferLawrence_05.jpg', 'JenniferLawrence_06.jpg', 'JenniferLopez_01.jpg', 'JenniferLopez_02.jpg', 'JenniferLopez_03.jpg', 'JenniferLopez_04.jpg', 'JenniferLopez_05.jpg', 'JenniferLopez_06.jpg', 'JenniferLopez_07.jpg', 'JenniferLopez_08.jpg', 'JenniferLopez_09.jpg', 'JenniferLopez_10.jpg', 'JennyMcCarthy_01.jpg', 'JennyMcCarthy_02.jpg', 'JennyMcCarthy_03.jpg', 'JennyMcCarthy_04.jpg', 'JennyMcCarthy_05.jpg', 'JennyMcCarthy_06.jpg', 'JennyMcCarthy_07.jpg', 'JennyMcCarthy_08.jpg', 'JennyMcCarthy_09.jpg', 'JennyMcCarthy_10.jpg', 'JennyMcCarthy_11.jpg', 'JennyMcCarthy_12.jpg', 'JessicaAlba_01.jpg', 'JessicaAlba_02.jpg', 'JessicaAlba_03.jpg', 'JessicaAlba_04.jpg', 'JessicaAlba_05.jpg', 'JessicaAlba_06.jpg', 'JessicaAlba_07.jpg', 'JessicaAlba_08.jpg', 'JessicaAlba_09.jpg', 'JessicaAlba_10.jpg', 'JessicaAlba_11.jpg', 'JessicaAlba_12.jpg', 'JessicaAlba_13.jpg', 'JessicaAlba_14.jpg', 'JessicaSimpson_01.jpg', 'JohnnyDepp_01.jpg', 'JohnnyDepp_02.jpg', 'JohnnyDepp_03.jpg', 'JohnnyDepp_04.jpg', 'JustinBieber_01.jpg', 'JustinBieber_02.jpg', 'JustinBieber_03.jpg', 'JustinBieber_04.jpg', 'JustinBieber_05.jpg', 'JustinBieber_06.jpg', 'JustinBieber_07.jpg', 'JustinTimberlake_01.jpg', 'JustinTimberlake_02.jpg', 'KanyeWest_01.jpg', 'KateBeckinsale_01.jpg', 'KateBeckinsale_02.jpg', 'KateBeckinsale_03.jpg', 'KateBeckinsale_04.jpg', 'KateBeckinsale_05.jpg', 'KateBeckinsale_06.jpg', 'KateBeckinsale_07.jpg', 'KateBeckinsale_08.jpg', 'KateBeckinsale_09.jpg', 'KateBeckinsale_10.jpg', 'KateBosworth_01.jpg', 'KateBosworth_02.jpg', 'KateBosworth_03.jpg', 'KateGosselin_01.jpg', 'KateHudson_01.jpg', 'KateHudson_02.jpg', 'KateHudson_03.jpg', 'KateHudson_04.jpg', 'KateHudson_05.jpg', 'KateHudson_06.jpg', 'KateHudson_07.jpg', 'KateHudson_08.jpg', 'KateMoss_01.jpg', 'KateMoss_02.jpg', 'KateMoss_03.jpg', 'KateMoss_04.jpg', 'KateMoss_05.jpg', 'KateMoss_06.jpg', 'KateMoss_07.jpg', 'KateMoss_08.jpg', 'KateMoss_09.jpg', 'KateMoss_10.jpg', 'KateMoss_11.jpg', 'KateMoss_12.jpg', 'KateMoss_13.jpg', 'KateMoss_14.jpg', 'KateMoss_15.jpg', 'KateMoss_16.jpg', 'KateMoss_17.jpg', 'KateMoss_18.jpg', 'KateMoss_19.jpg', 'KateWalsh_01.jpg', 'KateWalsh_02.jpg', 'KateWalsh_03.jpg', 'KateWalsh_04.jpg', 'KateWinslet_01.jpg', 'KateWinslet_02.jpg', 'KateWinslet_03.jpg', 'KateWinslet_04.jpg', 'KateWinslet_05.jpg', 'KatharineMcPhee_01.jpg', 'KatharineMcPhee_02.jpg', 'KatharineMcPhee_03.jpg', 'KatharineMcPhee_04.jpg', 'KatharineMcPhee_05.jpg', 'KatharineMcPhee_06.jpg', 'KatharineMcPhee_07.jpg', 'KatharineMcPhee_08.jpg', 'KatharineMcPhee_09.jpg', 'KatharineMcPhee_10.jpg', 'KatharineMcPhee_11.jpg', 'KatharineMcPhee_12.jpg', 'KatharineMcPhee_13.jpg', 'KatharineMcPhee_14.jpg', 'KatharineMcPhee_15.jpg', 'KatharineMcPhee_16.jpg', 'KatharineMcPhee_17.jpg', 'KatharineMcPhee_18.jpg', 'KatherineHeigl_01.jpg', 'KatherineHeigl_02.jpg', 'KatherineHeigl_03.jpg', 'KatherineHeigl_04.jpg', 'KatherineHeigl_05.jpg', 'KatherineHeigl_06.jpg', 'KatherineHeigl_07.jpg', 'KatherineHeigl_08.jpg', 'KatherineHeigl_09.jpg', 'KatherineHeigl_10.jpg', 'KatherineHeigl_11.jpg', 'KatherineHeigl_12.jpg', 'KatherineHeigl_13.jpg', 'KatherineHeigl_14.jpg', 'KatherineHeigl_15.jpg', 'KatherineHeigl_16.jpg', 'KatherineHeigl_17.jpg', 'KatherineHeigl_18.jpg', 'KatherineHeigl_19.jpg', 'KatherineHeigl_20.jpg', 'KatherineHeigl_21.jpg', 'KatherineHeigl_22.jpg', 'KatieHolmes_01.jpg', 'KatieHolmes_02.jpg', 'KatieHolmes_03.jpg', 'KatieHolmes_04.jpg', 'KatyPerry_01.jpg', 'KatyPerry_02.jpg', 'KatyPerry_03.jpg', 'KatyPerry_04.jpg', 'KatyPerry_05.jpg', 'KatyPerry_06.jpg', 'KatyPerry_07.jpg', 'KatyPerry_08.jpg', 'KeanuReeves_01.jpg', 'KeanuReeves_02.jpg', 'KeanuReeves_03.jpg', 'KeanuReeves_04.jpg', 'KeanuReeves_05.jpg', 'KeiraKnightley_01.jpg', 'KeiraKnightley_02.jpg', 'KeiraKnightley_03.jpg', 'KeiraKnightley_04.jpg', 'KeiraKnightley_05.jpg', 'KeiraKnightley_06.jpg', 'KeiraKnightley_07.jpg', 'KeiraKnightley_08.jpg', 'KeithUrban_01.jpg', 'KellanLutz_01.jpg', 'KellanLutz_02.jpg', 'KellanLutz_03.jpg', 'KellanLutz_04.jpg', 'KellanLutz_05.jpg', 'KellanLutz_06.jpg', 'KelliePickler_01.jpg', 'KelliePickler_02.jpg', 'KelliePickler_03.jpg', 'KelliePickler_04.jpg', 'KellyClarkson_01.jpg', 'KellyClarkson_02.jpg', 'KellyClarkson_03.jpg', 'KellyClarkson_04.jpg', 'KellyRipa_01.jpg', 'KellyRipa_02.jpg', 'KellyRipa_03.jpg', 'KendraWilkinson_01.jpg', 'KendraWilkinson_02.jpg', 'KendraWilkinson_03.jpg', 'KendraWilkinson_04.jpg', 'KendraWilkinson_05.jpg', 'KendraWilkinson_06.jpg', 'KendraWilkinson_07.jpg', 'KendraWilkinson_08.jpg', 'KendraWilkinson_09.jpg', 'KendraWilkinson_10.jpg', 'KendraWilkinson_11.jpg', 'KendraWilkinson_12.jpg', 'KendraWilkinson_13.jpg', 'KendraWilkinson_14.jpg', 'KendraWilkinson_15.jpg', 'KendraWilkinson_16.jpg', 'KendraWilkinson_17.jpg', 'KendraWilkinson_18.jpg', 'KendraWilkinson_19.jpg', 'KendraWilkinson_20.jpg', 'KennyChesney_01.jpg', 'KennyChesney_02.jpg', 'KennyChesney_03.jpg', 'KeriRussell_01.jpg', 'KeriRussell_02.jpg', 'KeriRussell_03.jpg', 'KeriRussell_04.jpg', 'KeriRussell_05.jpg', 'KerryWashington_01.jpg', 'KerryWashington_02.jpg', 'KerryWashington_03.jpg', 'KevinFederline_01.jpg', 'KhloeKardashian_01.jpg', 'KhloeKardashian_02.jpg', 'KhloeKardashian_03.jpg', 'KhloeKardashian_04.jpg', 'KhloeKardashian_05.jpg', 'KhloeKardashian_06.jpg', 'KhloeKardashian_07.jpg', 'KimKardashian_01.jpg', 'KimKardashian_02.jpg', 'KimKardashian_03.jpg', 'KimKardashian_04.jpg', 'KimKardashian_05.jpg', 'KimKardashian_06.jpg', 'KimKardashian_07.jpg', 'KirstenDunst_01.jpg', 'KirstenDunst_02.jpg', 'KirstenDunst_03.jpg', 'KirstieAlley_01.jpg', 'KirstieAlley_02.jpg', 'KourtneyKardashian_01.jpg', 'KourtneyKardashian_02.jpg', 'KourtneyKardashian_03.jpg', 'KourtneyKardashian_04.jpg', 'KourtneyKardashian_05.jpg', 'KourtneyKardashian_06.jpg', 'KourtneyKardashian_07.jpg', 'KourtneyKardashian_08.jpg', 'KourtneyKardashian_09.jpg', 'KourtneyKardashian_10.jpg', 'KrisAllen_01.jpg', 'KrisAllen_02.jpg', 'KrisAllen_03.jpg', 'KristenBell_01.jpg', 'KristenBell_02.jpg', 'KristenBell_03.jpg', 'KristenBell_04.jpg', 'KristenBell_05.jpg', 'KristenBell_06.jpg', 'KristenBell_07.jpg', 'KristenBell_08.jpg', 'KristenBell_09.jpg', 'KristenBell_10.jpg', 'KristenStewart_01.jpg', 'KristenStewart_02.jpg', 'KristenStewart_03.jpg', 'KristenStewart_04.jpg', 'KristenStewart_05.jpg', 'KristenStewart_06.jpg', 'KristenStewart_07.jpg', 'LadyGaga_01.jpg', 'LadyGaga_02.jpg', 'LadyGaga_03.jpg', 'LadyGaga_04.jpg', 'LadyGaga_05.jpg', 'LadyGaga_06.jpg', 'LadyGaga_07.jpg', 'LanaDelRey_01.jpg', 'LanaDelRey_02.jpg', 'LanaDelRey_03.jpg', 'LanaDelRey_04.jpg', 'LanaDelRey_05.jpg', 'LanaDelRey_06.jpg', 'LanaDelRey_07.jpg', 'LanaDelRey_08.jpg', 'LanaDelRey_09.jpg', 'LanaDelRey_10.jpg', 'LaurenConrad_01.jpg', 'LaurenConrad_02.jpg', 'LaurenConrad_03.jpg', 'LaurenConrad_04.jpg', 'LaurenConrad_05.jpg', 'LeightonMeester_01.jpg', 'LeightonMeester_02.jpg', 'LeightonMeester_03.jpg', 'LeightonMeester_04.jpg', 'LeightonMeester_05.jpg', 'LeightonMeester_06.jpg', 'LeightonMeester_07.jpg', 'LeightonMeester_08.jpg', 'LeightonMeester_09.jpg', 'LeightonMeester_10.jpg', 'LeonardoDiCaprio_01.jpg', 'LeonardoDiCaprio_02.jpg', 'LeonardoDiCaprio_03.jpg', 'LeonardoDiCaprio_04.jpg', 'LiamHemsworth_01.jpg', 'LiamHemsworth_02.jpg', 'LiamHemsworth_03.jpg', 'LiamHemsworth_04.jpg', 'LindsayLohan_01.jpg', 'LindsayLohan_02.jpg', 'LindsayLohan_03.jpg', 'LindsayLohan_04.jpg', 'LindsayLohan_05.jpg', 'LindsayLohan_06.jpg', 'LindsayLohan_07.jpg', 'LindsayLohan_08.jpg', 'LindsayLohan_09.jpg', 'LindsayLohan_10.jpg', 'Madonna_01.jpg', 'Madonna_02.jpg', 'Madonna_03.jpg', 'Madonna_04.jpg', 'Madonna_05.jpg', 'Madonna_06.jpg', 'Madonna_07.jpg', 'Madonna_08.jpg', 'Madonna_09.jpg', 'Madonna_10.jpg', 'MaggieGyllenhaal_01.jpg', 'MaggieGyllenhaal_02.jpg', 'MaggieGyllenhaal_03.jpg', 'MaggieGyllenhaal_04.jpg', 'MaggieGyllenhaal_05.jpg', 'MariahCarey_01.jpg', 'MariahCarey_02.jpg', 'MarioLopez_01.jpg', 'MarioLopez_02.jpg', 'MarioLopez_03.jpg', 'MarioLopez_04.jpg', 'MarioLopez_05.jpg', 'MarkBallas_01.jpg', 'MarkBallas_02.jpg', 'MarkBallas_03.jpg', 'MarkBallas_04.jpg', 'MarkBallas_05.jpg', 'MarkWahlberg_01.jpg', 'MarkWahlberg_02.jpg', 'MarkWahlberg_03.jpg', 'MarkWahlberg_04.jpg', 'MarkWahlberg_05.jpg', 'MarkWahlberg_06.jpg', 'MarkWahlberg_07.jpg', 'MarkWahlberg_08.jpg', 'MattDamon_01.jpg', 'MattDamon_02.jpg', 'MattDamon_03.jpg', 'MatthewMcConaughey_01.jpg', 'MatthewMcConaughey_02.jpg', 'MatthewMcConaughey_03.jpg', 'MatthewMcConaughey_04.jpg', 'MatthewMcConaughey_05.jpg', 'MatthewMcConaughey_06.jpg', 'MeganFox_01.jpg', 'MeganFox_02.jpg', 'MeganFox_03.jpg', 'MeganFox_04.jpg', 'MeganFox_05.jpg', 'MichelleWilliams_01.jpg', 'MilaKunis_01.jpg', 'MilaKunis_02.jpg', 'MilaKunis_03.jpg', 'MilaKunis_04.jpg', 'MilaKunis_05.jpg', 'MilaKunis_06.jpg', 'MilaKunis_07.jpg', 'MilaKunis_08.jpg', 'MilaKunis_09.jpg', 'MilaKunis_10.jpg', 'MilaKunis_11.jpg', 'MilaKunis_12.jpg', 'MilaKunis_13.jpg', 'MilaKunis_14.jpg', 'MilaKunis_15.jpg', 'MilaKunis_16.jpg', 'MileyCyrus_01.jpg', 'MileyCyrus_02.jpg', 'MileyCyrus_03.jpg', 'MileyCyrus_04.jpg', 'MileyCyrus_05.jpg', 'MileyCyrus_06.jpg', 'MileyCyrus_07.jpg', 'MileyCyrus_08.jpg', 'MileyCyrus_09.jpg', 'MileyCyrus_10.jpg', 'MileyCyrus_11.jpg', 'MileyCyrus_12.jpg', 'MileyCyrus_13.jpg', 'NaomiWatts_01.jpg', 'NaomiWatts_02.jpg', 'NaomiWatts_03.jpg', 'NaomiWatts_04.jpg', 'NaomiWatts_05.jpg', 'NataliePortman_01.jpg', 'NataliePortman_02.jpg', 'NataliePortman_03.jpg', 'NataliePortman_04.jpg', 'NataliePortman_05.jpg', 'NataliePortman_06.jpg', 'NataliePortman_07.jpg', 'NataliePortman_08.jpg', 'NataliePortman_09.jpg', 'NataliePortman_10.jpg', 'NickJonas_01.jpg', 'NickJonas_02.jpg', 'NickJonas_03.jpg', 'NickJonas_04.jpg', 'NickJonas_05.jpg', 'NickJonas_06.jpg', 'NickJonas_07.jpg', 'NickJonas_08.jpg', 'NickJonas_09.jpg', 'NickJonas_10.jpg', 'NickLachey_01.jpg', 'NickLachey_02.jpg', 'NickLachey_03.jpg', 'NickLachey_04.jpg', 'NickLachey_05.jpg', 'NickyMinaj_01.jpg', 'NickyMinaj_02.jpg', 'NickyMinaj_03.jpg', 'NickyMinaj_04.jpg', 'NickyMinaj_05.jpg', 'NickyMinaj_06.jpg', 'NickyMinaj_07.jpg', 'NickyMinaj_08.jpg', 'NickyMinaj_09.jpg', 'NicoleKidman_01.jpg', 'NicoleKidman_02.jpg', 'NicoleKidman_03.jpg', 'NicoleKidman_04.jpg', 'NicoleKidman_05.jpg', 'NicoleKidman_06.jpg', 'NicoleKidman_07.jpg', 'NicoleRichie_01.jpg', 'OrlandoBloom_01.jpg', 'OrlandoBloom_02.jpg', 'OrlandoBloom_03.jpg', 'OrlandoBloom_04.jpg', 'OwenWilson_01.jpg', 'OwenWilson_02.jpg', 'OwenWilson_03.jpg', 'PamelaAnderson_01.jpg', 'PamelaAnderson_02.jpg', 'PamelaAnderson_03.jpg', 'PamelaAnderson_04.jpg', 'PamelaAnderson_05.jpg', 'ParisHilton_01.jpg', 'ParisHilton_02.jpg', 'ParisHilton_03.jpg', 'ParisHilton_04.jpg', 'ParisHilton_05.jpg', 'ParisHilton_06.jpg', 'ParisHilton_07.jpg', 'ParisHilton_08.jpg', 'PatrickDempsey_01.jpg', 'PatrickDempsey_02.jpg', 'PennBadgley_01.jpg', 'PennBadgley_02.jpg', 'PennBadgley_03.jpg', 'PeteWentz_01.jpg', 'PeteWentz_02.jpg', 'PeteWentz_03.jpg', 'PeteWentz_04.jpg', 'PeteWentz_05.jpg', 'PeteWentz_06.jpg', 'Pink_01.jpg', 'Pink_02.jpg', 'PrincessKate_01.jpg', 'Rihanna_01.jpg', 'Rihanna_02.jpg', 'Rihanna_03.jpg', 'Rihanna_04.jpg', 'Rihanna_05.jpg', 'Rihanna_06.jpg', 'Rihanna_07.jpg', 'Rihanna_08.jpg', 'Rihanna_09.jpg', 'Rihanna_10.jpg', 'RobertDowneyJr_01.jpg', 'RobertDowneyJr_02.jpg', 'RobertDowneyJr_03.jpg', 'RobertDowneyJr_04.jpg', 'RobertPattinson_01.jpg', 'RobertPattinson_02.jpg', 'RobertPattinson_03.jpg', 'RobertPattinson_04.jpg', 'RobertPattinson_05.jpg', 'RobertPattinson_06.jpg', 'RobertPattinson_07.jpg', 'RobertPattinson_08.jpg', 'RobertPattinson_09.jpg', 'RobertPattinson_10.jpg', 'RosarioDawson_01.jpg', 'RosarioDawson_02.jpg', 'RosarioDawson_03.jpg', 'RosarioDawson_04.jpg', 'RosarioDawson_05.jpg', 'RosarioDawson_06.jpg', 'RosarioDawson_07.jpg', 'RyanGosling_01.jpg', 'RyanGosling_02.jpg', 'RyanGosling_03.jpg', 'RyanGosling_04.jpg', 'RyanPhillippe_01.jpg', 'RyanPhillippe_02.jpg', 'RyanPhillippe_03.jpg', 'RyanPhillippe_04.jpg', 'RyanPhillippe_05.jpg', 'RyanPhillippe_06.jpg', 'RyanPhillippe_07.jpg', 'RyanPhillippe_08.jpg', 'RyanReynolds_01.jpg', 'RyanReynolds_02.jpg', 'RyanReynolds_03.jpg', 'RyanReynolds_04.jpg', 'RyanReynolds_05.jpg', 'RyanSeacrest_01.jpg', 'RyanSeacrest_02.jpg', 'RyanSeacrest_03.jpg', 'RyanSeacrest_04.jpg', 'SalmaHayek_01.jpg', 'SalmaHayek_02.jpg', 'SalmaHayek_03.jpg', 'SalmaHayek_04.jpg', 'SalmaHayek_05.jpg', 'SalmaHayek_06.jpg', 'SalmaHayek_07.jpg', 'SalmaHayek_08.jpg', 'SalmaHayek_09.jpg', 'SalmaHayek_10.jpg', 'SandraBullock_01.jpg', 'SandraBullock_02.jpg', 'SandraBullock_03.jpg', 'SandraBullock_04.jpg', 'SandraBullock_05.jpg', 'SandraBullock_06.jpg', 'SandraBullock_07.jpg', 'SandraBullock_08.jpg', 'SandraBullock_09.jpg', 'SandraBullock_10.jpg', 'SarahJessicaParker_01.jpg', 'SarahJessicaParker_02.jpg', 'SarahJessicaParker_03.jpg', 'SarahJessicaParker_04.jpg', 'ScarlettJohansson_01.jpg', 'ScarlettJohansson_02.jpg', 'ScarlettJohansson_03.jpg', 'ScarlettJohansson_04.jpg', 'ScarlettJohansson_05.jpg', 'ScarlettJohansson_06.jpg', 'ScarlettJohansson_07.jpg', 'SelenaGomez_01.jpg', 'SelenaGomez_02.jpg', 'SelenaGomez_03.jpg', 'SelenaGomez_04.jpg', 'SelenaGomez_05.jpg', 'SelenaGomez_06.jpg', 'SelenaGomez_07.jpg', 'SelenaGomez_08.jpg', 'SelenaGomez_09.jpg', 'SelenaGomez_10.jpg', 'Shakira_01.jpg', 'Shakira_02.jpg', 'Shakira_03.jpg', 'Shakira_04.jpg', 'Shakira_05.jpg', 'Shakira_06.jpg', 'Shakira_07.jpg', 'SofiaVergara_01.jpg', 'TaylorLautner_01.jpg', 'TaylorLautner_02.jpg', 'TaylorLautner_03.jpg', 'TaylorLautner_04.jpg', 'TaylorLautner_05.jpg', 'TaylorLautner_06.jpg', 'TaylorLautner_07.jpg', 'TaylorLautner_08.jpg', 'TaylorLautner_09.jpg', 'TaylorLautner_10.jpg', 'TaylorLautner_11.jpg', 'TaylorLautner_12.jpg', 'TaylorMomsen_01.jpg', 'TaylorMomsen_02.jpg', 'TaylorMomsen_03.jpg', 'TaylorMomsen_04.jpg', 'TaylorMomsen_05.jpg', 'TaylorMomsen_06.jpg', 'TaylorMomsen_07.jpg', 'TaylorSwift_01.jpg', 'TaylorSwift_02.jpg', 'TaylorSwift_03.jpg', 'TaylorSwift_04.jpg', 'TeriHatcher_01.jpg', 'TeriHatcher_02.jpg', 'TeriHatcher_03.jpg', 'TeriHatcher_04.jpg', 'TeriHatcher_05.jpg', 'TomBrady_01.jpg', 'TomBrady_02.jpg', 'TomCruise_01.jpg', 'TomCruise_02.jpg', 'TomCruise_03.jpg', 'TomCruise_04.jpg', 'TomCruise_05.jpg', 'TomCruise_06.jpg', 'TomCruise_07.jpg', 'TomDaley_01.jpg', 'TomDaley_02.jpg', 'TomDaley_03.jpg', 'TomDaley_04.jpg', 'TomDaley_05.jpg', 'TomDaley_06.jpg', 'TomDaley_07.jpg', 'TomDaley_08.jpg', 'TomFelton_01.jpg', 'TomFelton_02.jpg', 'TomFelton_03.jpg', 'TyraBanks_01.jpg', 'TyraBanks_02.jpg', 'TyraBanks_03.jpg', 'TyraBanks_04.jpg', 'UsherRaymond_01.jpg', 'UsherRaymond_02.jpg', 'UsherRaymond_03.jpg', 'UsherRaymond_04.jpg', 'UsherRaymond_05.jpg', 'VanessaHudgens_01.jpg', 'VanessaHudgens_02.jpg', 'VanessaHudgens_03.jpg', 'VanessaHudgens_04.jpg', 'VanessaHudgens_05.jpg', 'VanessaHudgens_06.jpg', 'VanessaHudgens_07.jpg', 'VanessaHudgens_08.jpg', 'VanessaHudgens_09.jpg', 'VanessaHudgens_10.jpg', 'VictoriaBeckham_01.jpg', 'VictoriaBeckham_02.jpg', 'VictoriaBeckham_03.jpg', 'VictoriaBeckham_04.jpg', 'VictoriaBeckham_05.jpg', 'VictoriaBeckham_06.jpg', 'VinceVaughn_01.jpg', 'VinceVaughn_02.jpg', 'WhitneyPort_01.jpg', 'WhitneyPort_02.jpg', 'WhitneyPort_03.jpg', 'WillSmith_01.jpg', 'WillSmith_02.jpg', 'WinonaRyder_01.jpg', 'WinonaRyder_02.jpg', 'ZacEfron_01.jpg', 'ZacEfron_02.jpg', 'ZacEfron_03.jpg', 'ZacEfron_04.jpg', 'ZacEfron_05.jpg', 'ZacEfron_06.jpg', 'ZacEfron_07.jpg', 'ZacEfron_08.jpg']\n"
          ]
        }
      ]
    },
    {
      "cell_type": "code",
      "source": [
        "db = pd.DataFrame({\"filename\" : feature_filenames})\n",
        "db.head()\n"
      ],
      "metadata": {
        "colab": {
          "base_uri": "https://localhost:8080/",
          "height": 206
        },
        "id": "EuXcZ7Um8WBS",
        "outputId": "c8c29d09-1265-4dad-e8e2-f8cb5631812e"
      },
      "execution_count": null,
      "outputs": [
        {
          "output_type": "execute_result",
          "data": {
            "text/plain": [
              "            filename\n",
              "0  AdamLevine_01.jpg\n",
              "1  AdamLevine_02.jpg\n",
              "2  AdamLevine_03.jpg\n",
              "3  AdamLevine_04.jpg\n",
              "4       Adele_01.jpg"
            ],
            "text/html": [
              "\n",
              "  <div id=\"df-9da85654-284f-43d9-a73d-f4f930887eeb\">\n",
              "    <div class=\"colab-df-container\">\n",
              "      <div>\n",
              "<style scoped>\n",
              "    .dataframe tbody tr th:only-of-type {\n",
              "        vertical-align: middle;\n",
              "    }\n",
              "\n",
              "    .dataframe tbody tr th {\n",
              "        vertical-align: top;\n",
              "    }\n",
              "\n",
              "    .dataframe thead th {\n",
              "        text-align: right;\n",
              "    }\n",
              "</style>\n",
              "<table border=\"1\" class=\"dataframe\">\n",
              "  <thead>\n",
              "    <tr style=\"text-align: right;\">\n",
              "      <th></th>\n",
              "      <th>filename</th>\n",
              "    </tr>\n",
              "  </thead>\n",
              "  <tbody>\n",
              "    <tr>\n",
              "      <th>0</th>\n",
              "      <td>AdamLevine_01.jpg</td>\n",
              "    </tr>\n",
              "    <tr>\n",
              "      <th>1</th>\n",
              "      <td>AdamLevine_02.jpg</td>\n",
              "    </tr>\n",
              "    <tr>\n",
              "      <th>2</th>\n",
              "      <td>AdamLevine_03.jpg</td>\n",
              "    </tr>\n",
              "    <tr>\n",
              "      <th>3</th>\n",
              "      <td>AdamLevine_04.jpg</td>\n",
              "    </tr>\n",
              "    <tr>\n",
              "      <th>4</th>\n",
              "      <td>Adele_01.jpg</td>\n",
              "    </tr>\n",
              "  </tbody>\n",
              "</table>\n",
              "</div>\n",
              "      <button class=\"colab-df-convert\" onclick=\"convertToInteractive('df-9da85654-284f-43d9-a73d-f4f930887eeb')\"\n",
              "              title=\"Convert this dataframe to an interactive table.\"\n",
              "              style=\"display:none;\">\n",
              "        \n",
              "  <svg xmlns=\"http://www.w3.org/2000/svg\" height=\"24px\"viewBox=\"0 0 24 24\"\n",
              "       width=\"24px\">\n",
              "    <path d=\"M0 0h24v24H0V0z\" fill=\"none\"/>\n",
              "    <path d=\"M18.56 5.44l.94 2.06.94-2.06 2.06-.94-2.06-.94-.94-2.06-.94 2.06-2.06.94zm-11 1L8.5 8.5l.94-2.06 2.06-.94-2.06-.94L8.5 2.5l-.94 2.06-2.06.94zm10 10l.94 2.06.94-2.06 2.06-.94-2.06-.94-.94-2.06-.94 2.06-2.06.94z\"/><path d=\"M17.41 7.96l-1.37-1.37c-.4-.4-.92-.59-1.43-.59-.52 0-1.04.2-1.43.59L10.3 9.45l-7.72 7.72c-.78.78-.78 2.05 0 2.83L4 21.41c.39.39.9.59 1.41.59.51 0 1.02-.2 1.41-.59l7.78-7.78 2.81-2.81c.8-.78.8-2.07 0-2.86zM5.41 20L4 18.59l7.72-7.72 1.47 1.35L5.41 20z\"/>\n",
              "  </svg>\n",
              "      </button>\n",
              "      \n",
              "  <style>\n",
              "    .colab-df-container {\n",
              "      display:flex;\n",
              "      flex-wrap:wrap;\n",
              "      gap: 12px;\n",
              "    }\n",
              "\n",
              "    .colab-df-convert {\n",
              "      background-color: #E8F0FE;\n",
              "      border: none;\n",
              "      border-radius: 50%;\n",
              "      cursor: pointer;\n",
              "      display: none;\n",
              "      fill: #1967D2;\n",
              "      height: 32px;\n",
              "      padding: 0 0 0 0;\n",
              "      width: 32px;\n",
              "    }\n",
              "\n",
              "    .colab-df-convert:hover {\n",
              "      background-color: #E2EBFA;\n",
              "      box-shadow: 0px 1px 2px rgba(60, 64, 67, 0.3), 0px 1px 3px 1px rgba(60, 64, 67, 0.15);\n",
              "      fill: #174EA6;\n",
              "    }\n",
              "\n",
              "    [theme=dark] .colab-df-convert {\n",
              "      background-color: #3B4455;\n",
              "      fill: #D2E3FC;\n",
              "    }\n",
              "\n",
              "    [theme=dark] .colab-df-convert:hover {\n",
              "      background-color: #434B5C;\n",
              "      box-shadow: 0px 1px 3px 1px rgba(0, 0, 0, 0.15);\n",
              "      filter: drop-shadow(0px 1px 2px rgba(0, 0, 0, 0.3));\n",
              "      fill: #FFFFFF;\n",
              "    }\n",
              "  </style>\n",
              "\n",
              "      <script>\n",
              "        const buttonEl =\n",
              "          document.querySelector('#df-9da85654-284f-43d9-a73d-f4f930887eeb button.colab-df-convert');\n",
              "        buttonEl.style.display =\n",
              "          google.colab.kernel.accessAllowed ? 'block' : 'none';\n",
              "\n",
              "        async function convertToInteractive(key) {\n",
              "          const element = document.querySelector('#df-9da85654-284f-43d9-a73d-f4f930887eeb');\n",
              "          const dataTable =\n",
              "            await google.colab.kernel.invokeFunction('convertToInteractive',\n",
              "                                                     [key], {});\n",
              "          if (!dataTable) return;\n",
              "\n",
              "          const docLinkHtml = 'Like what you see? Visit the ' +\n",
              "            '<a target=\"_blank\" href=https://colab.research.google.com/notebooks/data_table.ipynb>data table notebook</a>'\n",
              "            + ' to learn more about interactive tables.';\n",
              "          element.innerHTML = '';\n",
              "          dataTable['output_type'] = 'display_data';\n",
              "          await google.colab.output.renderOutput(dataTable, element);\n",
              "          const docLink = document.createElement('div');\n",
              "          docLink.innerHTML = docLinkHtml;\n",
              "          element.appendChild(docLink);\n",
              "        }\n",
              "      </script>\n",
              "    </div>\n",
              "  </div>\n",
              "  "
            ]
          },
          "metadata": {},
          "execution_count": 9
        }
      ]
    },
    {
      "cell_type": "code",
      "source": [
        "# def plotImages(images_arr): \n",
        "#   fig, axes = plt.subplots(1,10, figsize = (20,20))\n",
        "#   axes = axes.flatten()\n",
        "#   for img, ax in zip(images_arr, axes):\n",
        "#     ax.imshow(img)\n",
        "#     ax.axis('off')\n",
        "#   plt.tight_layout()\n",
        "#   plt.show()\n",
        "\n",
        "# plotImages(imgs)"
      ],
      "metadata": {
        "colab": {
          "base_uri": "https://localhost:8080/",
          "height": 201
        },
        "id": "mlGtRpyUu5WX",
        "outputId": "86015b23-5828-4bdf-fa8d-0b55db681bc4"
      },
      "execution_count": null,
      "outputs": [
        {
          "output_type": "error",
          "ename": "NameError",
          "evalue": "ignored",
          "traceback": [
            "\u001b[0;31m---------------------------------------------------------------------------\u001b[0m",
            "\u001b[0;31mNameError\u001b[0m                                 Traceback (most recent call last)",
            "\u001b[0;32m<ipython-input-15-58cfaa45bfb0>\u001b[0m in \u001b[0;36m<cell line: 10>\u001b[0;34m()\u001b[0m\n\u001b[1;32m      8\u001b[0m   \u001b[0mplt\u001b[0m\u001b[0;34m.\u001b[0m\u001b[0mshow\u001b[0m\u001b[0;34m(\u001b[0m\u001b[0;34m)\u001b[0m\u001b[0;34m\u001b[0m\u001b[0;34m\u001b[0m\u001b[0m\n\u001b[1;32m      9\u001b[0m \u001b[0;34m\u001b[0m\u001b[0m\n\u001b[0;32m---> 10\u001b[0;31m \u001b[0mplotImages\u001b[0m\u001b[0;34m(\u001b[0m\u001b[0mimgs\u001b[0m\u001b[0;34m)\u001b[0m\u001b[0;34m\u001b[0m\u001b[0;34m\u001b[0m\u001b[0m\n\u001b[0m",
            "\u001b[0;31mNameError\u001b[0m: name 'imgs' is not defined"
          ]
        }
      ]
    },
    {
      "cell_type": "code",
      "source": [
        "model = S"
      ],
      "metadata": {
        "id": "i0c64z8ytBt-"
      },
      "execution_count": null,
      "outputs": []
    },
    {
      "cell_type": "code",
      "source": [
        "features = model.predict(train_batch)"
      ],
      "metadata": {
        "colab": {
          "base_uri": "https://localhost:8080/"
        },
        "id": "FzoaYtDNq4P6",
        "outputId": "95a86030-2ebc-4de6-aaa7-8fd58a7c0422"
      },
      "execution_count": null,
      "outputs": [
        {
          "output_type": "stream",
          "name": "stdout",
          "text": [
            "36/36 [==============================] - 73s 2s/step\n"
          ]
        }
      ]
    },
    {
      "cell_type": "code",
      "source": [
        "features.shape"
      ],
      "metadata": {
        "colab": {
          "base_uri": "https://localhost:8080/"
        },
        "id": "4ejx_iTgrOso",
        "outputId": "743a0c1c-7fb7-414f-f21c-ee677aaed84b"
      },
      "execution_count": null,
      "outputs": [
        {
          "output_type": "execute_result",
          "data": {
            "text/plain": [
              "(1146, 7, 7, 960)"
            ]
          },
          "metadata": {},
          "execution_count": 12
        }
      ]
    },
    {
      "cell_type": "code",
      "source": [
        "features = features.reshape(features.shape[0], -1)\n"
      ],
      "metadata": {
        "id": "l1Cx0p5nAs6k"
      },
      "execution_count": null,
      "outputs": []
    },
    {
      "cell_type": "code",
      "source": [
        "\n",
        "features.shape\n",
        "feature_list = []\n",
        "for feature in features: \n",
        "    feature_list.append(feature)\n",
        "\n",
        "db[\"features\"] = feature_list\n",
        "db.head()"
      ],
      "metadata": {
        "id": "xhjGMd6xv1G_",
        "colab": {
          "base_uri": "https://localhost:8080/",
          "height": 206
        },
        "outputId": "f2f3297f-21cc-49ec-821e-252faddca619"
      },
      "execution_count": null,
      "outputs": [
        {
          "output_type": "execute_result",
          "data": {
            "text/plain": [
              "            filename                                           features\n",
              "0  AdamLevine_01.jpg  [-0.0, -0.0, -0.0, -0.0, 0.12060602, -0.0, -0....\n",
              "1  AdamLevine_02.jpg  [-0.0, 6.572655, -0.0, -0.0, -0.044556327, -0....\n",
              "2  AdamLevine_03.jpg  [-0.0, -0.0, -0.0, -0.0, -0.0, -0.0, -0.0, 0.3...\n",
              "3  AdamLevine_04.jpg  [-0.0, -0.0, -0.0, -0.0, -0.0, -0.0, -0.0, -0....\n",
              "4       Adele_01.jpg  [-0.0, -0.0, -0.0, -0.0, -0.0, -0.0, -0.0, -0...."
            ],
            "text/html": [
              "\n",
              "  <div id=\"df-29d8673a-8375-4faa-9be5-15b187635506\">\n",
              "    <div class=\"colab-df-container\">\n",
              "      <div>\n",
              "<style scoped>\n",
              "    .dataframe tbody tr th:only-of-type {\n",
              "        vertical-align: middle;\n",
              "    }\n",
              "\n",
              "    .dataframe tbody tr th {\n",
              "        vertical-align: top;\n",
              "    }\n",
              "\n",
              "    .dataframe thead th {\n",
              "        text-align: right;\n",
              "    }\n",
              "</style>\n",
              "<table border=\"1\" class=\"dataframe\">\n",
              "  <thead>\n",
              "    <tr style=\"text-align: right;\">\n",
              "      <th></th>\n",
              "      <th>filename</th>\n",
              "      <th>features</th>\n",
              "    </tr>\n",
              "  </thead>\n",
              "  <tbody>\n",
              "    <tr>\n",
              "      <th>0</th>\n",
              "      <td>AdamLevine_01.jpg</td>\n",
              "      <td>[-0.0, -0.0, -0.0, -0.0, 0.12060602, -0.0, -0....</td>\n",
              "    </tr>\n",
              "    <tr>\n",
              "      <th>1</th>\n",
              "      <td>AdamLevine_02.jpg</td>\n",
              "      <td>[-0.0, 6.572655, -0.0, -0.0, -0.044556327, -0....</td>\n",
              "    </tr>\n",
              "    <tr>\n",
              "      <th>2</th>\n",
              "      <td>AdamLevine_03.jpg</td>\n",
              "      <td>[-0.0, -0.0, -0.0, -0.0, -0.0, -0.0, -0.0, 0.3...</td>\n",
              "    </tr>\n",
              "    <tr>\n",
              "      <th>3</th>\n",
              "      <td>AdamLevine_04.jpg</td>\n",
              "      <td>[-0.0, -0.0, -0.0, -0.0, -0.0, -0.0, -0.0, -0....</td>\n",
              "    </tr>\n",
              "    <tr>\n",
              "      <th>4</th>\n",
              "      <td>Adele_01.jpg</td>\n",
              "      <td>[-0.0, -0.0, -0.0, -0.0, -0.0, -0.0, -0.0, -0....</td>\n",
              "    </tr>\n",
              "  </tbody>\n",
              "</table>\n",
              "</div>\n",
              "      <button class=\"colab-df-convert\" onclick=\"convertToInteractive('df-29d8673a-8375-4faa-9be5-15b187635506')\"\n",
              "              title=\"Convert this dataframe to an interactive table.\"\n",
              "              style=\"display:none;\">\n",
              "        \n",
              "  <svg xmlns=\"http://www.w3.org/2000/svg\" height=\"24px\"viewBox=\"0 0 24 24\"\n",
              "       width=\"24px\">\n",
              "    <path d=\"M0 0h24v24H0V0z\" fill=\"none\"/>\n",
              "    <path d=\"M18.56 5.44l.94 2.06.94-2.06 2.06-.94-2.06-.94-.94-2.06-.94 2.06-2.06.94zm-11 1L8.5 8.5l.94-2.06 2.06-.94-2.06-.94L8.5 2.5l-.94 2.06-2.06.94zm10 10l.94 2.06.94-2.06 2.06-.94-2.06-.94-.94-2.06-.94 2.06-2.06.94z\"/><path d=\"M17.41 7.96l-1.37-1.37c-.4-.4-.92-.59-1.43-.59-.52 0-1.04.2-1.43.59L10.3 9.45l-7.72 7.72c-.78.78-.78 2.05 0 2.83L4 21.41c.39.39.9.59 1.41.59.51 0 1.02-.2 1.41-.59l7.78-7.78 2.81-2.81c.8-.78.8-2.07 0-2.86zM5.41 20L4 18.59l7.72-7.72 1.47 1.35L5.41 20z\"/>\n",
              "  </svg>\n",
              "      </button>\n",
              "      \n",
              "  <style>\n",
              "    .colab-df-container {\n",
              "      display:flex;\n",
              "      flex-wrap:wrap;\n",
              "      gap: 12px;\n",
              "    }\n",
              "\n",
              "    .colab-df-convert {\n",
              "      background-color: #E8F0FE;\n",
              "      border: none;\n",
              "      border-radius: 50%;\n",
              "      cursor: pointer;\n",
              "      display: none;\n",
              "      fill: #1967D2;\n",
              "      height: 32px;\n",
              "      padding: 0 0 0 0;\n",
              "      width: 32px;\n",
              "    }\n",
              "\n",
              "    .colab-df-convert:hover {\n",
              "      background-color: #E2EBFA;\n",
              "      box-shadow: 0px 1px 2px rgba(60, 64, 67, 0.3), 0px 1px 3px 1px rgba(60, 64, 67, 0.15);\n",
              "      fill: #174EA6;\n",
              "    }\n",
              "\n",
              "    [theme=dark] .colab-df-convert {\n",
              "      background-color: #3B4455;\n",
              "      fill: #D2E3FC;\n",
              "    }\n",
              "\n",
              "    [theme=dark] .colab-df-convert:hover {\n",
              "      background-color: #434B5C;\n",
              "      box-shadow: 0px 1px 3px 1px rgba(0, 0, 0, 0.15);\n",
              "      filter: drop-shadow(0px 1px 2px rgba(0, 0, 0, 0.3));\n",
              "      fill: #FFFFFF;\n",
              "    }\n",
              "  </style>\n",
              "\n",
              "      <script>\n",
              "        const buttonEl =\n",
              "          document.querySelector('#df-29d8673a-8375-4faa-9be5-15b187635506 button.colab-df-convert');\n",
              "        buttonEl.style.display =\n",
              "          google.colab.kernel.accessAllowed ? 'block' : 'none';\n",
              "\n",
              "        async function convertToInteractive(key) {\n",
              "          const element = document.querySelector('#df-29d8673a-8375-4faa-9be5-15b187635506');\n",
              "          const dataTable =\n",
              "            await google.colab.kernel.invokeFunction('convertToInteractive',\n",
              "                                                     [key], {});\n",
              "          if (!dataTable) return;\n",
              "\n",
              "          const docLinkHtml = 'Like what you see? Visit the ' +\n",
              "            '<a target=\"_blank\" href=https://colab.research.google.com/notebooks/data_table.ipynb>data table notebook</a>'\n",
              "            + ' to learn more about interactive tables.';\n",
              "          element.innerHTML = '';\n",
              "          dataTable['output_type'] = 'display_data';\n",
              "          await google.colab.output.renderOutput(dataTable, element);\n",
              "          const docLink = document.createElement('div');\n",
              "          docLink.innerHTML = docLinkHtml;\n",
              "          element.appendChild(docLink);\n",
              "        }\n",
              "      </script>\n",
              "    </div>\n",
              "  </div>\n",
              "  "
            ]
          },
          "metadata": {},
          "execution_count": 14
        }
      ]
    },
    {
      "cell_type": "code",
      "source": [
        "#lets add attribute labels too now \n",
        "attrib = pd.read_csv(\"./Attributes.csv\")\n",
        "# attrib.iloc[:, 1:]\n",
        "db = pd.concat([db, attrib.iloc[:, 1:]], axis = 1)\n",
        "db.head()\n"
      ],
      "metadata": {
        "colab": {
          "base_uri": "https://localhost:8080/",
          "height": 583
        },
        "id": "VL799WUH-BFg",
        "outputId": "03750fae-f376-4107-d8ef-98cc2f129ee6"
      },
      "execution_count": null,
      "outputs": [
        {
          "output_type": "execute_result",
          "data": {
            "text/plain": [
              "            filename                                           features  \\\n",
              "0  AdamLevine_01.jpg  [-0.0, -0.0, -0.0, -0.0, 0.12060602, -0.0, -0....   \n",
              "1  AdamLevine_02.jpg  [-0.0, 6.572655, -0.0, -0.0, -0.044556327, -0....   \n",
              "2  AdamLevine_03.jpg  [-0.0, -0.0, -0.0, -0.0, -0.0, -0.0, -0.0, 0.3...   \n",
              "3  AdamLevine_04.jpg  [-0.0, -0.0, -0.0, -0.0, -0.0, -0.0, -0.0, -0....   \n",
              "4       Adele_01.jpg  [-0.0, -0.0, -0.0, -0.0, -0.0, -0.0, -0.0, -0....   \n",
              "\n",
              "   Skin Exposure   Scene Context  Body Posture  Body Movement  \\\n",
              "0               2              4             1              1   \n",
              "1               2              3             1              1   \n",
              "2               1              4             1              1   \n",
              "3               2              3             2              3   \n",
              "4               1              2             1              1   \n",
              "\n",
              "   Body Facing Camera  Face Facing Camera  Head Position  Spread Eagles  \\\n",
              "0                   1                   1              2              2   \n",
              "1                   0                   0              0              0   \n",
              "2                   1                   1              0              0   \n",
              "3                   1                   1              1              0   \n",
              "4                   1                   1              0              0   \n",
              "\n",
              "   Elbow Pointing  Position of Wrist  Gesture with Fingers  Looking  Eyebrow  \\\n",
              "0               0                  0                     0        2        1   \n",
              "1               1                  0                     0        2        1   \n",
              "2               0                  0                     0        2        1   \n",
              "3               1                  0                     0        2        1   \n",
              "4               0                  0                     0        2        1   \n",
              "\n",
              "   Smile  Eyelids  Mouth  Biting lips  \n",
              "0      2        1      0            0  \n",
              "1      0        1      0            0  \n",
              "2      0        1      0            0  \n",
              "3      0        1      0            0  \n",
              "4      1        1      0            0  "
            ],
            "text/html": [
              "\n",
              "  <div id=\"df-90de41c6-5db2-4109-b2d4-6022dc1683af\">\n",
              "    <div class=\"colab-df-container\">\n",
              "      <div>\n",
              "<style scoped>\n",
              "    .dataframe tbody tr th:only-of-type {\n",
              "        vertical-align: middle;\n",
              "    }\n",
              "\n",
              "    .dataframe tbody tr th {\n",
              "        vertical-align: top;\n",
              "    }\n",
              "\n",
              "    .dataframe thead th {\n",
              "        text-align: right;\n",
              "    }\n",
              "</style>\n",
              "<table border=\"1\" class=\"dataframe\">\n",
              "  <thead>\n",
              "    <tr style=\"text-align: right;\">\n",
              "      <th></th>\n",
              "      <th>filename</th>\n",
              "      <th>features</th>\n",
              "      <th>Skin Exposure</th>\n",
              "      <th>Scene Context</th>\n",
              "      <th>Body Posture</th>\n",
              "      <th>Body Movement</th>\n",
              "      <th>Body Facing Camera</th>\n",
              "      <th>Face Facing Camera</th>\n",
              "      <th>Head Position</th>\n",
              "      <th>Spread Eagles</th>\n",
              "      <th>Elbow Pointing</th>\n",
              "      <th>Position of Wrist</th>\n",
              "      <th>Gesture with Fingers</th>\n",
              "      <th>Looking</th>\n",
              "      <th>Eyebrow</th>\n",
              "      <th>Smile</th>\n",
              "      <th>Eyelids</th>\n",
              "      <th>Mouth</th>\n",
              "      <th>Biting lips</th>\n",
              "    </tr>\n",
              "  </thead>\n",
              "  <tbody>\n",
              "    <tr>\n",
              "      <th>0</th>\n",
              "      <td>AdamLevine_01.jpg</td>\n",
              "      <td>[-0.0, -0.0, -0.0, -0.0, 0.12060602, -0.0, -0....</td>\n",
              "      <td>2</td>\n",
              "      <td>4</td>\n",
              "      <td>1</td>\n",
              "      <td>1</td>\n",
              "      <td>1</td>\n",
              "      <td>1</td>\n",
              "      <td>2</td>\n",
              "      <td>2</td>\n",
              "      <td>0</td>\n",
              "      <td>0</td>\n",
              "      <td>0</td>\n",
              "      <td>2</td>\n",
              "      <td>1</td>\n",
              "      <td>2</td>\n",
              "      <td>1</td>\n",
              "      <td>0</td>\n",
              "      <td>0</td>\n",
              "    </tr>\n",
              "    <tr>\n",
              "      <th>1</th>\n",
              "      <td>AdamLevine_02.jpg</td>\n",
              "      <td>[-0.0, 6.572655, -0.0, -0.0, -0.044556327, -0....</td>\n",
              "      <td>2</td>\n",
              "      <td>3</td>\n",
              "      <td>1</td>\n",
              "      <td>1</td>\n",
              "      <td>0</td>\n",
              "      <td>0</td>\n",
              "      <td>0</td>\n",
              "      <td>0</td>\n",
              "      <td>1</td>\n",
              "      <td>0</td>\n",
              "      <td>0</td>\n",
              "      <td>2</td>\n",
              "      <td>1</td>\n",
              "      <td>0</td>\n",
              "      <td>1</td>\n",
              "      <td>0</td>\n",
              "      <td>0</td>\n",
              "    </tr>\n",
              "    <tr>\n",
              "      <th>2</th>\n",
              "      <td>AdamLevine_03.jpg</td>\n",
              "      <td>[-0.0, -0.0, -0.0, -0.0, -0.0, -0.0, -0.0, 0.3...</td>\n",
              "      <td>1</td>\n",
              "      <td>4</td>\n",
              "      <td>1</td>\n",
              "      <td>1</td>\n",
              "      <td>1</td>\n",
              "      <td>1</td>\n",
              "      <td>0</td>\n",
              "      <td>0</td>\n",
              "      <td>0</td>\n",
              "      <td>0</td>\n",
              "      <td>0</td>\n",
              "      <td>2</td>\n",
              "      <td>1</td>\n",
              "      <td>0</td>\n",
              "      <td>1</td>\n",
              "      <td>0</td>\n",
              "      <td>0</td>\n",
              "    </tr>\n",
              "    <tr>\n",
              "      <th>3</th>\n",
              "      <td>AdamLevine_04.jpg</td>\n",
              "      <td>[-0.0, -0.0, -0.0, -0.0, -0.0, -0.0, -0.0, -0....</td>\n",
              "      <td>2</td>\n",
              "      <td>3</td>\n",
              "      <td>2</td>\n",
              "      <td>3</td>\n",
              "      <td>1</td>\n",
              "      <td>1</td>\n",
              "      <td>1</td>\n",
              "      <td>0</td>\n",
              "      <td>1</td>\n",
              "      <td>0</td>\n",
              "      <td>0</td>\n",
              "      <td>2</td>\n",
              "      <td>1</td>\n",
              "      <td>0</td>\n",
              "      <td>1</td>\n",
              "      <td>0</td>\n",
              "      <td>0</td>\n",
              "    </tr>\n",
              "    <tr>\n",
              "      <th>4</th>\n",
              "      <td>Adele_01.jpg</td>\n",
              "      <td>[-0.0, -0.0, -0.0, -0.0, -0.0, -0.0, -0.0, -0....</td>\n",
              "      <td>1</td>\n",
              "      <td>2</td>\n",
              "      <td>1</td>\n",
              "      <td>1</td>\n",
              "      <td>1</td>\n",
              "      <td>1</td>\n",
              "      <td>0</td>\n",
              "      <td>0</td>\n",
              "      <td>0</td>\n",
              "      <td>0</td>\n",
              "      <td>0</td>\n",
              "      <td>2</td>\n",
              "      <td>1</td>\n",
              "      <td>1</td>\n",
              "      <td>1</td>\n",
              "      <td>0</td>\n",
              "      <td>0</td>\n",
              "    </tr>\n",
              "  </tbody>\n",
              "</table>\n",
              "</div>\n",
              "      <button class=\"colab-df-convert\" onclick=\"convertToInteractive('df-90de41c6-5db2-4109-b2d4-6022dc1683af')\"\n",
              "              title=\"Convert this dataframe to an interactive table.\"\n",
              "              style=\"display:none;\">\n",
              "        \n",
              "  <svg xmlns=\"http://www.w3.org/2000/svg\" height=\"24px\"viewBox=\"0 0 24 24\"\n",
              "       width=\"24px\">\n",
              "    <path d=\"M0 0h24v24H0V0z\" fill=\"none\"/>\n",
              "    <path d=\"M18.56 5.44l.94 2.06.94-2.06 2.06-.94-2.06-.94-.94-2.06-.94 2.06-2.06.94zm-11 1L8.5 8.5l.94-2.06 2.06-.94-2.06-.94L8.5 2.5l-.94 2.06-2.06.94zm10 10l.94 2.06.94-2.06 2.06-.94-2.06-.94-.94-2.06-.94 2.06-2.06.94z\"/><path d=\"M17.41 7.96l-1.37-1.37c-.4-.4-.92-.59-1.43-.59-.52 0-1.04.2-1.43.59L10.3 9.45l-7.72 7.72c-.78.78-.78 2.05 0 2.83L4 21.41c.39.39.9.59 1.41.59.51 0 1.02-.2 1.41-.59l7.78-7.78 2.81-2.81c.8-.78.8-2.07 0-2.86zM5.41 20L4 18.59l7.72-7.72 1.47 1.35L5.41 20z\"/>\n",
              "  </svg>\n",
              "      </button>\n",
              "      \n",
              "  <style>\n",
              "    .colab-df-container {\n",
              "      display:flex;\n",
              "      flex-wrap:wrap;\n",
              "      gap: 12px;\n",
              "    }\n",
              "\n",
              "    .colab-df-convert {\n",
              "      background-color: #E8F0FE;\n",
              "      border: none;\n",
              "      border-radius: 50%;\n",
              "      cursor: pointer;\n",
              "      display: none;\n",
              "      fill: #1967D2;\n",
              "      height: 32px;\n",
              "      padding: 0 0 0 0;\n",
              "      width: 32px;\n",
              "    }\n",
              "\n",
              "    .colab-df-convert:hover {\n",
              "      background-color: #E2EBFA;\n",
              "      box-shadow: 0px 1px 2px rgba(60, 64, 67, 0.3), 0px 1px 3px 1px rgba(60, 64, 67, 0.15);\n",
              "      fill: #174EA6;\n",
              "    }\n",
              "\n",
              "    [theme=dark] .colab-df-convert {\n",
              "      background-color: #3B4455;\n",
              "      fill: #D2E3FC;\n",
              "    }\n",
              "\n",
              "    [theme=dark] .colab-df-convert:hover {\n",
              "      background-color: #434B5C;\n",
              "      box-shadow: 0px 1px 3px 1px rgba(0, 0, 0, 0.15);\n",
              "      filter: drop-shadow(0px 1px 2px rgba(0, 0, 0, 0.3));\n",
              "      fill: #FFFFFF;\n",
              "    }\n",
              "  </style>\n",
              "\n",
              "      <script>\n",
              "        const buttonEl =\n",
              "          document.querySelector('#df-90de41c6-5db2-4109-b2d4-6022dc1683af button.colab-df-convert');\n",
              "        buttonEl.style.display =\n",
              "          google.colab.kernel.accessAllowed ? 'block' : 'none';\n",
              "\n",
              "        async function convertToInteractive(key) {\n",
              "          const element = document.querySelector('#df-90de41c6-5db2-4109-b2d4-6022dc1683af');\n",
              "          const dataTable =\n",
              "            await google.colab.kernel.invokeFunction('convertToInteractive',\n",
              "                                                     [key], {});\n",
              "          if (!dataTable) return;\n",
              "\n",
              "          const docLinkHtml = 'Like what you see? Visit the ' +\n",
              "            '<a target=\"_blank\" href=https://colab.research.google.com/notebooks/data_table.ipynb>data table notebook</a>'\n",
              "            + ' to learn more about interactive tables.';\n",
              "          element.innerHTML = '';\n",
              "          dataTable['output_type'] = 'display_data';\n",
              "          await google.colab.output.renderOutput(dataTable, element);\n",
              "          const docLink = document.createElement('div');\n",
              "          docLink.innerHTML = docLinkHtml;\n",
              "          element.appendChild(docLink);\n",
              "        }\n",
              "      </script>\n",
              "    </div>\n",
              "  </div>\n",
              "  "
            ]
          },
          "metadata": {},
          "execution_count": 15
        }
      ]
    },
    {
      "cell_type": "code",
      "source": [
        "from sklearn.model_selection import train_test_split\n",
        "\n",
        "train, test = train_test_split(db, test_size = 0.4)"
      ],
      "metadata": {
        "id": "guAckXnlpSsP"
      },
      "execution_count": null,
      "outputs": []
    },
    {
      "cell_type": "code",
      "source": [
        "train_data = train.iloc[:, 1]\n",
        "train_data= np.asarray([np.asarray(row, dtype=float) for row in train_data], dtype=float)\n",
        "train_labels = np.array(train.iloc[ :, 2:])\n",
        "test_data = test.iloc[:, 1]\n",
        "test_data= np.asarray([np.asarray(row, dtype=float) for row in test_data], dtype=float)\n",
        "test_labels = np.array(test.iloc[ :, 2:])\n",
        "print(train_data)"
      ],
      "metadata": {
        "id": "ItJ8R5d-sReE",
        "colab": {
          "base_uri": "https://localhost:8080/"
        },
        "outputId": "02141b2d-dfea-4323-b6e1-5923db319626"
      },
      "execution_count": null,
      "outputs": [
        {
          "output_type": "stream",
          "name": "stdout",
          "text": [
            "[[-0.         -0.          0.84980297 ... -0.         -0.\n",
            "  -0.24823421]\n",
            " [-0.         -0.07230335 -0.21722636 ... -0.         -0.\n",
            "  -0.        ]\n",
            " [-0.         -0.         -0.1129778  ... -0.22953621 -0.16336831\n",
            "  -0.        ]\n",
            " ...\n",
            " [-0.         -0.         -0.23289287 ... -0.         -0.\n",
            "  -0.        ]\n",
            " [-0.         -0.         -0.31506944 ... -0.          9.8882494\n",
            "  -0.        ]\n",
            " [-0.         -0.         -0.36948168 ...  1.47892427 21.76610565\n",
            "  -0.        ]]\n"
          ]
        }
      ]
    },
    {
      "cell_type": "code",
      "source": [
        "from sklearn.multioutput import MultiOutputClassifier\n",
        "from sklearn import svm\n",
        "from sklearn.metrics import multilabel_confusion_matrix, ConfusionMatrixDisplay\n",
        "\n",
        "poly_svm = svm.SVC(C=1, kernel = \"poly\", degree=2)\n",
        "attrib_model = MultiOutputClassifier(poly_svm, n_jobs=-1)\n",
        "\n",
        "attrib_model = attrib_model.fit(train_data, train_labels)\n"
      ],
      "metadata": {
        "colab": {
          "base_uri": "https://localhost:8080/",
          "height": 989
        },
        "id": "M2Gg2XyQptXU",
        "outputId": "f120c6b0-c047-44eb-fe32-0e9389222eef"
      },
      "execution_count": null,
      "outputs": [
        {
          "output_type": "error",
          "ename": "ValueError",
          "evalue": "ignored",
          "traceback": [
            "\u001b[0;31m---------------------------------------------------------------------------\u001b[0m",
            "\u001b[0;31m_RemoteTraceback\u001b[0m                          Traceback (most recent call last)",
            "\u001b[0;31m_RemoteTraceback\u001b[0m: \n\"\"\"\nTypeError: only size-1 arrays can be converted to Python scalars\n\nThe above exception was the direct cause of the following exception:\n\nTraceback (most recent call last):\n  File \"/usr/local/lib/python3.9/dist-packages/joblib/externals/loky/process_executor.py\", line 428, in _process_worker\n    r = call_item()\n  File \"/usr/local/lib/python3.9/dist-packages/joblib/externals/loky/process_executor.py\", line 275, in __call__\n    return self.fn(*self.args, **self.kwargs)\n  File \"/usr/local/lib/python3.9/dist-packages/joblib/_parallel_backends.py\", line 620, in __call__\n    return self.func(*args, **kwargs)\n  File \"/usr/local/lib/python3.9/dist-packages/joblib/parallel.py\", line 288, in __call__\n    return [func(*args, **kwargs)\n  File \"/usr/local/lib/python3.9/dist-packages/joblib/parallel.py\", line 288, in <listcomp>\n    return [func(*args, **kwargs)\n  File \"/usr/local/lib/python3.9/dist-packages/sklearn/utils/parallel.py\", line 123, in __call__\n    return self.function(*args, **kwargs)\n  File \"/usr/local/lib/python3.9/dist-packages/sklearn/svm/_base.py\", line 820, in predict\n    y = super().predict(X)\n  File \"/usr/local/lib/python3.9/dist-packages/sklearn/svm/_base.py\", line 433, in predict\n    X = self._validate_for_predict(X)\n  File \"/usr/local/lib/python3.9/dist-packages/sklearn/svm/_base.py\", line 613, in _validate_for_predict\n    X = self._validate_data(\n  File \"/usr/local/lib/python3.9/dist-packages/sklearn/base.py\", line 565, in _validate_data\n    X = check_array(X, input_name=\"X\", **check_params)\n  File \"/usr/local/lib/python3.9/dist-packages/sklearn/utils/validation.py\", line 879, in check_array\n    array = _asarray_with_order(array, order=order, dtype=dtype, xp=xp)\n  File \"/usr/local/lib/python3.9/dist-packages/sklearn/utils/_array_api.py\", line 185, in _asarray_with_order\n    array = numpy.asarray(array, order=order, dtype=dtype)\nValueError: setting an array element with a sequence.\n\"\"\"",
            "\nThe above exception was the direct cause of the following exception:\n",
            "\u001b[0;31mValueError\u001b[0m                                Traceback (most recent call last)",
            "\u001b[0;32m<ipython-input-31-e7fb72d569cc>\u001b[0m in \u001b[0;36m<cell line: 9>\u001b[0;34m()\u001b[0m\n\u001b[1;32m      7\u001b[0m \u001b[0;34m\u001b[0m\u001b[0m\n\u001b[1;32m      8\u001b[0m \u001b[0mattrib_model\u001b[0m \u001b[0;34m=\u001b[0m \u001b[0mattrib_model\u001b[0m\u001b[0;34m.\u001b[0m\u001b[0mfit\u001b[0m\u001b[0;34m(\u001b[0m\u001b[0mtrain_data\u001b[0m\u001b[0;34m,\u001b[0m \u001b[0mtrain_labels\u001b[0m\u001b[0;34m)\u001b[0m\u001b[0;34m\u001b[0m\u001b[0;34m\u001b[0m\u001b[0m\n\u001b[0;32m----> 9\u001b[0;31m \u001b[0my_pred\u001b[0m \u001b[0;34m=\u001b[0m \u001b[0mattrib_model\u001b[0m\u001b[0;34m.\u001b[0m\u001b[0mpredict\u001b[0m\u001b[0;34m(\u001b[0m\u001b[0mtest_data\u001b[0m\u001b[0;34m)\u001b[0m\u001b[0;34m\u001b[0m\u001b[0;34m\u001b[0m\u001b[0m\n\u001b[0m",
            "\u001b[0;32m/usr/local/lib/python3.9/dist-packages/sklearn/multioutput.py\u001b[0m in \u001b[0;36mpredict\u001b[0;34m(self, X)\u001b[0m\n\u001b[1;32m    246\u001b[0m             \u001b[0;32mraise\u001b[0m \u001b[0mValueError\u001b[0m\u001b[0;34m(\u001b[0m\u001b[0;34m\"The base estimator should implement a predict method\"\u001b[0m\u001b[0;34m)\u001b[0m\u001b[0;34m\u001b[0m\u001b[0;34m\u001b[0m\u001b[0m\n\u001b[1;32m    247\u001b[0m \u001b[0;34m\u001b[0m\u001b[0m\n\u001b[0;32m--> 248\u001b[0;31m         y = Parallel(n_jobs=self.n_jobs)(\n\u001b[0m\u001b[1;32m    249\u001b[0m             \u001b[0mdelayed\u001b[0m\u001b[0;34m(\u001b[0m\u001b[0me\u001b[0m\u001b[0;34m.\u001b[0m\u001b[0mpredict\u001b[0m\u001b[0;34m)\u001b[0m\u001b[0;34m(\u001b[0m\u001b[0mX\u001b[0m\u001b[0;34m)\u001b[0m \u001b[0;32mfor\u001b[0m \u001b[0me\u001b[0m \u001b[0;32min\u001b[0m \u001b[0mself\u001b[0m\u001b[0;34m.\u001b[0m\u001b[0mestimators_\u001b[0m\u001b[0;34m\u001b[0m\u001b[0;34m\u001b[0m\u001b[0m\n\u001b[1;32m    250\u001b[0m         )\n",
            "\u001b[0;32m/usr/local/lib/python3.9/dist-packages/sklearn/utils/parallel.py\u001b[0m in \u001b[0;36m__call__\u001b[0;34m(self, iterable)\u001b[0m\n\u001b[1;32m     61\u001b[0m             \u001b[0;32mfor\u001b[0m \u001b[0mdelayed_func\u001b[0m\u001b[0;34m,\u001b[0m \u001b[0margs\u001b[0m\u001b[0;34m,\u001b[0m \u001b[0mkwargs\u001b[0m \u001b[0;32min\u001b[0m \u001b[0miterable\u001b[0m\u001b[0;34m\u001b[0m\u001b[0;34m\u001b[0m\u001b[0m\n\u001b[1;32m     62\u001b[0m         )\n\u001b[0;32m---> 63\u001b[0;31m         \u001b[0;32mreturn\u001b[0m \u001b[0msuper\u001b[0m\u001b[0;34m(\u001b[0m\u001b[0;34m)\u001b[0m\u001b[0;34m.\u001b[0m\u001b[0m__call__\u001b[0m\u001b[0;34m(\u001b[0m\u001b[0miterable_with_config\u001b[0m\u001b[0;34m)\u001b[0m\u001b[0;34m\u001b[0m\u001b[0;34m\u001b[0m\u001b[0m\n\u001b[0m\u001b[1;32m     64\u001b[0m \u001b[0;34m\u001b[0m\u001b[0m\n\u001b[1;32m     65\u001b[0m \u001b[0;34m\u001b[0m\u001b[0m\n",
            "\u001b[0;32m/usr/local/lib/python3.9/dist-packages/joblib/parallel.py\u001b[0m in \u001b[0;36m__call__\u001b[0;34m(self, iterable)\u001b[0m\n\u001b[1;32m   1096\u001b[0m \u001b[0;34m\u001b[0m\u001b[0m\n\u001b[1;32m   1097\u001b[0m             \u001b[0;32mwith\u001b[0m \u001b[0mself\u001b[0m\u001b[0;34m.\u001b[0m\u001b[0m_backend\u001b[0m\u001b[0;34m.\u001b[0m\u001b[0mretrieval_context\u001b[0m\u001b[0;34m(\u001b[0m\u001b[0;34m)\u001b[0m\u001b[0;34m:\u001b[0m\u001b[0;34m\u001b[0m\u001b[0;34m\u001b[0m\u001b[0m\n\u001b[0;32m-> 1098\u001b[0;31m                 \u001b[0mself\u001b[0m\u001b[0;34m.\u001b[0m\u001b[0mretrieve\u001b[0m\u001b[0;34m(\u001b[0m\u001b[0;34m)\u001b[0m\u001b[0;34m\u001b[0m\u001b[0;34m\u001b[0m\u001b[0m\n\u001b[0m\u001b[1;32m   1099\u001b[0m             \u001b[0;31m# Make sure that we get a last message telling us we are done\u001b[0m\u001b[0;34m\u001b[0m\u001b[0;34m\u001b[0m\u001b[0m\n\u001b[1;32m   1100\u001b[0m             \u001b[0melapsed_time\u001b[0m \u001b[0;34m=\u001b[0m \u001b[0mtime\u001b[0m\u001b[0;34m.\u001b[0m\u001b[0mtime\u001b[0m\u001b[0;34m(\u001b[0m\u001b[0;34m)\u001b[0m \u001b[0;34m-\u001b[0m \u001b[0mself\u001b[0m\u001b[0;34m.\u001b[0m\u001b[0m_start_time\u001b[0m\u001b[0;34m\u001b[0m\u001b[0;34m\u001b[0m\u001b[0m\n",
            "\u001b[0;32m/usr/local/lib/python3.9/dist-packages/joblib/parallel.py\u001b[0m in \u001b[0;36mretrieve\u001b[0;34m(self)\u001b[0m\n\u001b[1;32m    973\u001b[0m             \u001b[0;32mtry\u001b[0m\u001b[0;34m:\u001b[0m\u001b[0;34m\u001b[0m\u001b[0;34m\u001b[0m\u001b[0m\n\u001b[1;32m    974\u001b[0m                 \u001b[0;32mif\u001b[0m \u001b[0mgetattr\u001b[0m\u001b[0;34m(\u001b[0m\u001b[0mself\u001b[0m\u001b[0;34m.\u001b[0m\u001b[0m_backend\u001b[0m\u001b[0;34m,\u001b[0m \u001b[0;34m'supports_timeout'\u001b[0m\u001b[0;34m,\u001b[0m \u001b[0;32mFalse\u001b[0m\u001b[0;34m)\u001b[0m\u001b[0;34m:\u001b[0m\u001b[0;34m\u001b[0m\u001b[0;34m\u001b[0m\u001b[0m\n\u001b[0;32m--> 975\u001b[0;31m                     \u001b[0mself\u001b[0m\u001b[0;34m.\u001b[0m\u001b[0m_output\u001b[0m\u001b[0;34m.\u001b[0m\u001b[0mextend\u001b[0m\u001b[0;34m(\u001b[0m\u001b[0mjob\u001b[0m\u001b[0;34m.\u001b[0m\u001b[0mget\u001b[0m\u001b[0;34m(\u001b[0m\u001b[0mtimeout\u001b[0m\u001b[0;34m=\u001b[0m\u001b[0mself\u001b[0m\u001b[0;34m.\u001b[0m\u001b[0mtimeout\u001b[0m\u001b[0;34m)\u001b[0m\u001b[0;34m)\u001b[0m\u001b[0;34m\u001b[0m\u001b[0;34m\u001b[0m\u001b[0m\n\u001b[0m\u001b[1;32m    976\u001b[0m                 \u001b[0;32melse\u001b[0m\u001b[0;34m:\u001b[0m\u001b[0;34m\u001b[0m\u001b[0;34m\u001b[0m\u001b[0m\n\u001b[1;32m    977\u001b[0m                     \u001b[0mself\u001b[0m\u001b[0;34m.\u001b[0m\u001b[0m_output\u001b[0m\u001b[0;34m.\u001b[0m\u001b[0mextend\u001b[0m\u001b[0;34m(\u001b[0m\u001b[0mjob\u001b[0m\u001b[0;34m.\u001b[0m\u001b[0mget\u001b[0m\u001b[0;34m(\u001b[0m\u001b[0;34m)\u001b[0m\u001b[0;34m)\u001b[0m\u001b[0;34m\u001b[0m\u001b[0;34m\u001b[0m\u001b[0m\n",
            "\u001b[0;32m/usr/local/lib/python3.9/dist-packages/joblib/_parallel_backends.py\u001b[0m in \u001b[0;36mwrap_future_result\u001b[0;34m(future, timeout)\u001b[0m\n\u001b[1;32m    565\u001b[0m         AsyncResults.get from multiprocessing.\"\"\"\n\u001b[1;32m    566\u001b[0m         \u001b[0;32mtry\u001b[0m\u001b[0;34m:\u001b[0m\u001b[0;34m\u001b[0m\u001b[0;34m\u001b[0m\u001b[0m\n\u001b[0;32m--> 567\u001b[0;31m             \u001b[0;32mreturn\u001b[0m \u001b[0mfuture\u001b[0m\u001b[0;34m.\u001b[0m\u001b[0mresult\u001b[0m\u001b[0;34m(\u001b[0m\u001b[0mtimeout\u001b[0m\u001b[0;34m=\u001b[0m\u001b[0mtimeout\u001b[0m\u001b[0;34m)\u001b[0m\u001b[0;34m\u001b[0m\u001b[0;34m\u001b[0m\u001b[0m\n\u001b[0m\u001b[1;32m    568\u001b[0m         \u001b[0;32mexcept\u001b[0m \u001b[0mCfTimeoutError\u001b[0m \u001b[0;32mas\u001b[0m \u001b[0me\u001b[0m\u001b[0;34m:\u001b[0m\u001b[0;34m\u001b[0m\u001b[0;34m\u001b[0m\u001b[0m\n\u001b[1;32m    569\u001b[0m             \u001b[0;32mraise\u001b[0m \u001b[0mTimeoutError\u001b[0m \u001b[0;32mfrom\u001b[0m \u001b[0me\u001b[0m\u001b[0;34m\u001b[0m\u001b[0;34m\u001b[0m\u001b[0m\n",
            "\u001b[0;32m/usr/lib/python3.9/concurrent/futures/_base.py\u001b[0m in \u001b[0;36mresult\u001b[0;34m(self, timeout)\u001b[0m\n\u001b[1;32m    444\u001b[0m                     \u001b[0;32mraise\u001b[0m \u001b[0mCancelledError\u001b[0m\u001b[0;34m(\u001b[0m\u001b[0;34m)\u001b[0m\u001b[0;34m\u001b[0m\u001b[0;34m\u001b[0m\u001b[0m\n\u001b[1;32m    445\u001b[0m                 \u001b[0;32melif\u001b[0m \u001b[0mself\u001b[0m\u001b[0;34m.\u001b[0m\u001b[0m_state\u001b[0m \u001b[0;34m==\u001b[0m \u001b[0mFINISHED\u001b[0m\u001b[0;34m:\u001b[0m\u001b[0;34m\u001b[0m\u001b[0;34m\u001b[0m\u001b[0m\n\u001b[0;32m--> 446\u001b[0;31m                     \u001b[0;32mreturn\u001b[0m \u001b[0mself\u001b[0m\u001b[0;34m.\u001b[0m\u001b[0m__get_result\u001b[0m\u001b[0;34m(\u001b[0m\u001b[0;34m)\u001b[0m\u001b[0;34m\u001b[0m\u001b[0;34m\u001b[0m\u001b[0m\n\u001b[0m\u001b[1;32m    447\u001b[0m                 \u001b[0;32melse\u001b[0m\u001b[0;34m:\u001b[0m\u001b[0;34m\u001b[0m\u001b[0;34m\u001b[0m\u001b[0m\n\u001b[1;32m    448\u001b[0m                     \u001b[0;32mraise\u001b[0m \u001b[0mTimeoutError\u001b[0m\u001b[0;34m(\u001b[0m\u001b[0;34m)\u001b[0m\u001b[0;34m\u001b[0m\u001b[0;34m\u001b[0m\u001b[0m\n",
            "\u001b[0;32m/usr/lib/python3.9/concurrent/futures/_base.py\u001b[0m in \u001b[0;36m__get_result\u001b[0;34m(self)\u001b[0m\n\u001b[1;32m    389\u001b[0m         \u001b[0;32mif\u001b[0m \u001b[0mself\u001b[0m\u001b[0;34m.\u001b[0m\u001b[0m_exception\u001b[0m\u001b[0;34m:\u001b[0m\u001b[0;34m\u001b[0m\u001b[0;34m\u001b[0m\u001b[0m\n\u001b[1;32m    390\u001b[0m             \u001b[0;32mtry\u001b[0m\u001b[0;34m:\u001b[0m\u001b[0;34m\u001b[0m\u001b[0;34m\u001b[0m\u001b[0m\n\u001b[0;32m--> 391\u001b[0;31m                 \u001b[0;32mraise\u001b[0m \u001b[0mself\u001b[0m\u001b[0;34m.\u001b[0m\u001b[0m_exception\u001b[0m\u001b[0;34m\u001b[0m\u001b[0;34m\u001b[0m\u001b[0m\n\u001b[0m\u001b[1;32m    392\u001b[0m             \u001b[0;32mfinally\u001b[0m\u001b[0;34m:\u001b[0m\u001b[0;34m\u001b[0m\u001b[0;34m\u001b[0m\u001b[0m\n\u001b[1;32m    393\u001b[0m                 \u001b[0;31m# Break a reference cycle with the exception in self._exception\u001b[0m\u001b[0;34m\u001b[0m\u001b[0;34m\u001b[0m\u001b[0m\n",
            "\u001b[0;31mValueError\u001b[0m: setting an array element with a sequence."
          ]
        }
      ]
    },
    {
      "cell_type": "code",
      "source": [
        "test_pred = attrib_model.predict(test_data)\n",
        "# matrices = multilabel_confusion_matrix(test_labels, test_pred)\n",
        "\n",
        "# # Plotting matrices: code\n",
        "# cmd = ConfusionMatrixDisplay(matrices[0], display_labels=np.unique(test_labels)).plot()\n",
        "# plt.title('Confusion Matrix for label 1 (type)')\n",
        "# plt.show()\n",
        "# cmd = ConfusionMatrixDisplay(matrices[1], display_labels=np.unique(test_labels)).plot()\n",
        "# plt.title('Confusion Matrix for label 2 (color)')\n",
        "# plt.show()\n"
      ],
      "metadata": {
        "colab": {
          "base_uri": "https://localhost:8080/",
          "height": 381
        },
        "id": "1tA-iRPY1CyE",
        "outputId": "56617c83-64df-48a1-85e7-40766b4b20ac"
      },
      "execution_count": null,
      "outputs": [
        {
          "output_type": "error",
          "ename": "ValueError",
          "evalue": "ignored",
          "traceback": [
            "\u001b[0;31m---------------------------------------------------------------------------\u001b[0m",
            "\u001b[0;31mValueError\u001b[0m                                Traceback (most recent call last)",
            "\u001b[0;32m<ipython-input-34-2f1bbbad117e>\u001b[0m in \u001b[0;36m<cell line: 2>\u001b[0;34m()\u001b[0m\n\u001b[1;32m      1\u001b[0m \u001b[0mtest_pred\u001b[0m \u001b[0;34m=\u001b[0m \u001b[0mattrib_model\u001b[0m\u001b[0;34m.\u001b[0m\u001b[0mpredict\u001b[0m\u001b[0;34m(\u001b[0m\u001b[0mtest_data\u001b[0m\u001b[0;34m)\u001b[0m\u001b[0;34m\u001b[0m\u001b[0;34m\u001b[0m\u001b[0m\n\u001b[0;32m----> 2\u001b[0;31m \u001b[0mmatrices\u001b[0m \u001b[0;34m=\u001b[0m \u001b[0mmultilabel_confusion_matrix\u001b[0m\u001b[0;34m(\u001b[0m\u001b[0mtest_labels\u001b[0m\u001b[0;34m,\u001b[0m \u001b[0mtest_pred\u001b[0m\u001b[0;34m)\u001b[0m\u001b[0;34m\u001b[0m\u001b[0;34m\u001b[0m\u001b[0m\n\u001b[0m\u001b[1;32m      3\u001b[0m \u001b[0;34m\u001b[0m\u001b[0m\n\u001b[1;32m      4\u001b[0m \u001b[0;31m# Plotting matrices: code\u001b[0m\u001b[0;34m\u001b[0m\u001b[0;34m\u001b[0m\u001b[0m\n\u001b[1;32m      5\u001b[0m \u001b[0mcmd\u001b[0m \u001b[0;34m=\u001b[0m \u001b[0mConfusionMatrixDisplay\u001b[0m\u001b[0;34m(\u001b[0m\u001b[0mmatrices\u001b[0m\u001b[0;34m[\u001b[0m\u001b[0;36m0\u001b[0m\u001b[0;34m]\u001b[0m\u001b[0;34m,\u001b[0m \u001b[0mdisplay_labels\u001b[0m\u001b[0;34m=\u001b[0m\u001b[0mnp\u001b[0m\u001b[0;34m.\u001b[0m\u001b[0munique\u001b[0m\u001b[0;34m(\u001b[0m\u001b[0mtest_labels\u001b[0m\u001b[0;34m)\u001b[0m\u001b[0;34m)\u001b[0m\u001b[0;34m.\u001b[0m\u001b[0mplot\u001b[0m\u001b[0;34m(\u001b[0m\u001b[0;34m)\u001b[0m\u001b[0;34m\u001b[0m\u001b[0;34m\u001b[0m\u001b[0m\n",
            "\u001b[0;32m/usr/local/lib/python3.9/dist-packages/sklearn/metrics/_classification.py\u001b[0m in \u001b[0;36mmultilabel_confusion_matrix\u001b[0;34m(y_true, y_pred, sample_weight, labels, samplewise)\u001b[0m\n\u001b[1;32m    487\u001b[0m             [1, 2]]])\n\u001b[1;32m    488\u001b[0m     \"\"\"\n\u001b[0;32m--> 489\u001b[0;31m     \u001b[0my_type\u001b[0m\u001b[0;34m,\u001b[0m \u001b[0my_true\u001b[0m\u001b[0;34m,\u001b[0m \u001b[0my_pred\u001b[0m \u001b[0;34m=\u001b[0m \u001b[0m_check_targets\u001b[0m\u001b[0;34m(\u001b[0m\u001b[0my_true\u001b[0m\u001b[0;34m,\u001b[0m \u001b[0my_pred\u001b[0m\u001b[0;34m)\u001b[0m\u001b[0;34m\u001b[0m\u001b[0;34m\u001b[0m\u001b[0m\n\u001b[0m\u001b[1;32m    490\u001b[0m     \u001b[0;32mif\u001b[0m \u001b[0msample_weight\u001b[0m \u001b[0;32mis\u001b[0m \u001b[0;32mnot\u001b[0m \u001b[0;32mNone\u001b[0m\u001b[0;34m:\u001b[0m\u001b[0;34m\u001b[0m\u001b[0;34m\u001b[0m\u001b[0m\n\u001b[1;32m    491\u001b[0m         \u001b[0msample_weight\u001b[0m \u001b[0;34m=\u001b[0m \u001b[0mcolumn_or_1d\u001b[0m\u001b[0;34m(\u001b[0m\u001b[0msample_weight\u001b[0m\u001b[0;34m)\u001b[0m\u001b[0;34m\u001b[0m\u001b[0;34m\u001b[0m\u001b[0m\n",
            "\u001b[0;32m/usr/local/lib/python3.9/dist-packages/sklearn/metrics/_classification.py\u001b[0m in \u001b[0;36m_check_targets\u001b[0;34m(y_true, y_pred)\u001b[0m\n\u001b[1;32m    104\u001b[0m     \u001b[0;31m# No metrics support \"multiclass-multioutput\" format\u001b[0m\u001b[0;34m\u001b[0m\u001b[0;34m\u001b[0m\u001b[0m\n\u001b[1;32m    105\u001b[0m     \u001b[0;32mif\u001b[0m \u001b[0my_type\u001b[0m \u001b[0;32mnot\u001b[0m \u001b[0;32min\u001b[0m \u001b[0;34m[\u001b[0m\u001b[0;34m\"binary\"\u001b[0m\u001b[0;34m,\u001b[0m \u001b[0;34m\"multiclass\"\u001b[0m\u001b[0;34m,\u001b[0m \u001b[0;34m\"multilabel-indicator\"\u001b[0m\u001b[0;34m]\u001b[0m\u001b[0;34m:\u001b[0m\u001b[0;34m\u001b[0m\u001b[0;34m\u001b[0m\u001b[0m\n\u001b[0;32m--> 106\u001b[0;31m         \u001b[0;32mraise\u001b[0m \u001b[0mValueError\u001b[0m\u001b[0;34m(\u001b[0m\u001b[0;34m\"{0} is not supported\"\u001b[0m\u001b[0;34m.\u001b[0m\u001b[0mformat\u001b[0m\u001b[0;34m(\u001b[0m\u001b[0my_type\u001b[0m\u001b[0;34m)\u001b[0m\u001b[0;34m)\u001b[0m\u001b[0;34m\u001b[0m\u001b[0;34m\u001b[0m\u001b[0m\n\u001b[0m\u001b[1;32m    107\u001b[0m \u001b[0;34m\u001b[0m\u001b[0m\n\u001b[1;32m    108\u001b[0m     \u001b[0;32mif\u001b[0m \u001b[0my_type\u001b[0m \u001b[0;32min\u001b[0m \u001b[0;34m[\u001b[0m\u001b[0;34m\"binary\"\u001b[0m\u001b[0;34m,\u001b[0m \u001b[0;34m\"multiclass\"\u001b[0m\u001b[0;34m]\u001b[0m\u001b[0;34m:\u001b[0m\u001b[0;34m\u001b[0m\u001b[0;34m\u001b[0m\u001b[0m\n",
            "\u001b[0;31mValueError\u001b[0m: multiclass-multioutput is not supported"
          ]
        }
      ]
    },
    {
      "cell_type": "code",
      "source": [
        "from sklearn.metrics import confusion_matrix, accuracy_score\n",
        "cm = confusion_matrix(test_labels, test_pred)\n",
        "\n",
        "print(\"Confusion Matrix: \")\n",
        "print(cm)\n",
        "\n",
        "print(\"Accuracy of the Model: {0}%\".format(accuracy_score(test_labels, test_pred)*100))"
      ],
      "metadata": {
        "colab": {
          "base_uri": "https://localhost:8080/",
          "height": 381
        },
        "id": "rvXdjzaQ2uje",
        "outputId": "c9f4146c-2957-489e-8ef2-a7cbb5e8c7ec"
      },
      "execution_count": null,
      "outputs": [
        {
          "output_type": "error",
          "ename": "ValueError",
          "evalue": "ignored",
          "traceback": [
            "\u001b[0;31m---------------------------------------------------------------------------\u001b[0m",
            "\u001b[0;31mValueError\u001b[0m                                Traceback (most recent call last)",
            "\u001b[0;32m<ipython-input-39-a24bc37f533d>\u001b[0m in \u001b[0;36m<cell line: 2>\u001b[0;34m()\u001b[0m\n\u001b[1;32m      1\u001b[0m \u001b[0;32mfrom\u001b[0m \u001b[0msklearn\u001b[0m\u001b[0;34m.\u001b[0m\u001b[0mmetrics\u001b[0m \u001b[0;32mimport\u001b[0m \u001b[0mconfusion_matrix\u001b[0m\u001b[0;34m,\u001b[0m \u001b[0maccuracy_score\u001b[0m\u001b[0;34m\u001b[0m\u001b[0;34m\u001b[0m\u001b[0m\n\u001b[0;32m----> 2\u001b[0;31m \u001b[0mcm\u001b[0m \u001b[0;34m=\u001b[0m \u001b[0mconfusion_matrix\u001b[0m\u001b[0;34m(\u001b[0m\u001b[0mtest_labels\u001b[0m\u001b[0;34m,\u001b[0m \u001b[0mtest_pred\u001b[0m\u001b[0;34m)\u001b[0m\u001b[0;34m\u001b[0m\u001b[0;34m\u001b[0m\u001b[0m\n\u001b[0m\u001b[1;32m      3\u001b[0m \u001b[0;34m\u001b[0m\u001b[0m\n\u001b[1;32m      4\u001b[0m \u001b[0mprint\u001b[0m\u001b[0;34m(\u001b[0m\u001b[0;34m\"Confusion Matrix: \"\u001b[0m\u001b[0;34m)\u001b[0m\u001b[0;34m\u001b[0m\u001b[0;34m\u001b[0m\u001b[0m\n\u001b[1;32m      5\u001b[0m \u001b[0mprint\u001b[0m\u001b[0;34m(\u001b[0m\u001b[0mcm\u001b[0m\u001b[0;34m)\u001b[0m\u001b[0;34m\u001b[0m\u001b[0;34m\u001b[0m\u001b[0m\n",
            "\u001b[0;32m/usr/local/lib/python3.9/dist-packages/sklearn/metrics/_classification.py\u001b[0m in \u001b[0;36mconfusion_matrix\u001b[0;34m(y_true, y_pred, labels, sample_weight, normalize)\u001b[0m\n\u001b[1;32m    315\u001b[0m     \u001b[0;34m(\u001b[0m\u001b[0;36m0\u001b[0m\u001b[0;34m,\u001b[0m \u001b[0;36m2\u001b[0m\u001b[0;34m,\u001b[0m \u001b[0;36m1\u001b[0m\u001b[0;34m,\u001b[0m \u001b[0;36m1\u001b[0m\u001b[0;34m)\u001b[0m\u001b[0;34m\u001b[0m\u001b[0;34m\u001b[0m\u001b[0m\n\u001b[1;32m    316\u001b[0m     \"\"\"\n\u001b[0;32m--> 317\u001b[0;31m     \u001b[0my_type\u001b[0m\u001b[0;34m,\u001b[0m \u001b[0my_true\u001b[0m\u001b[0;34m,\u001b[0m \u001b[0my_pred\u001b[0m \u001b[0;34m=\u001b[0m \u001b[0m_check_targets\u001b[0m\u001b[0;34m(\u001b[0m\u001b[0my_true\u001b[0m\u001b[0;34m,\u001b[0m \u001b[0my_pred\u001b[0m\u001b[0;34m)\u001b[0m\u001b[0;34m\u001b[0m\u001b[0;34m\u001b[0m\u001b[0m\n\u001b[0m\u001b[1;32m    318\u001b[0m     \u001b[0;32mif\u001b[0m \u001b[0my_type\u001b[0m \u001b[0;32mnot\u001b[0m \u001b[0;32min\u001b[0m \u001b[0;34m(\u001b[0m\u001b[0;34m\"binary\"\u001b[0m\u001b[0;34m,\u001b[0m \u001b[0;34m\"multiclass\"\u001b[0m\u001b[0;34m)\u001b[0m\u001b[0;34m:\u001b[0m\u001b[0;34m\u001b[0m\u001b[0;34m\u001b[0m\u001b[0m\n\u001b[1;32m    319\u001b[0m         \u001b[0;32mraise\u001b[0m \u001b[0mValueError\u001b[0m\u001b[0;34m(\u001b[0m\u001b[0;34m\"%s is not supported\"\u001b[0m \u001b[0;34m%\u001b[0m \u001b[0my_type\u001b[0m\u001b[0;34m)\u001b[0m\u001b[0;34m\u001b[0m\u001b[0;34m\u001b[0m\u001b[0m\n",
            "\u001b[0;32m/usr/local/lib/python3.9/dist-packages/sklearn/metrics/_classification.py\u001b[0m in \u001b[0;36m_check_targets\u001b[0;34m(y_true, y_pred)\u001b[0m\n\u001b[1;32m    104\u001b[0m     \u001b[0;31m# No metrics support \"multiclass-multioutput\" format\u001b[0m\u001b[0;34m\u001b[0m\u001b[0;34m\u001b[0m\u001b[0m\n\u001b[1;32m    105\u001b[0m     \u001b[0;32mif\u001b[0m \u001b[0my_type\u001b[0m \u001b[0;32mnot\u001b[0m \u001b[0;32min\u001b[0m \u001b[0;34m[\u001b[0m\u001b[0;34m\"binary\"\u001b[0m\u001b[0;34m,\u001b[0m \u001b[0;34m\"multiclass\"\u001b[0m\u001b[0;34m,\u001b[0m \u001b[0;34m\"multilabel-indicator\"\u001b[0m\u001b[0;34m]\u001b[0m\u001b[0;34m:\u001b[0m\u001b[0;34m\u001b[0m\u001b[0;34m\u001b[0m\u001b[0m\n\u001b[0;32m--> 106\u001b[0;31m         \u001b[0;32mraise\u001b[0m \u001b[0mValueError\u001b[0m\u001b[0;34m(\u001b[0m\u001b[0;34m\"{0} is not supported\"\u001b[0m\u001b[0;34m.\u001b[0m\u001b[0mformat\u001b[0m\u001b[0;34m(\u001b[0m\u001b[0my_type\u001b[0m\u001b[0;34m)\u001b[0m\u001b[0;34m)\u001b[0m\u001b[0;34m\u001b[0m\u001b[0;34m\u001b[0m\u001b[0m\n\u001b[0m\u001b[1;32m    107\u001b[0m \u001b[0;34m\u001b[0m\u001b[0m\n\u001b[1;32m    108\u001b[0m     \u001b[0;32mif\u001b[0m \u001b[0my_type\u001b[0m \u001b[0;32min\u001b[0m \u001b[0;34m[\u001b[0m\u001b[0;34m\"binary\"\u001b[0m\u001b[0;34m,\u001b[0m \u001b[0;34m\"multiclass\"\u001b[0m\u001b[0;34m]\u001b[0m\u001b[0;34m:\u001b[0m\u001b[0;34m\u001b[0m\u001b[0;34m\u001b[0m\u001b[0m\n",
            "\u001b[0;31mValueError\u001b[0m: multiclass-multioutput is not supported"
          ]
        }
      ]
    }
  ],
  "metadata": {
    "kernelspec": {
      "display_name": "Python 3",
      "language": "python",
      "name": "python3"
    },
    "language_info": {
      "name": "python",
      "version": "3.11.0"
    },
    "orig_nbformat": 4,
    "colab": {
      "provenance": []
    }
  },
  "nbformat": 4,
  "nbformat_minor": 0
}